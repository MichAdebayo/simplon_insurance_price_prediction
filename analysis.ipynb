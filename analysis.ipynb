{
 "cells": [
  {
   "cell_type": "code",
   "execution_count": 1,
   "metadata": {},
   "outputs": [],
   "source": [
    "# Import libraries\n",
    "\n",
    "import pandas as pd\n",
    "import seaborn as sns\n",
    "import matplotlib.pyplot as plt\n",
    "import numpy as np"
   ]
  },
  {
   "cell_type": "code",
   "execution_count": 2,
   "metadata": {},
   "outputs": [],
   "source": [
    "# Load cleaned dataset\n",
    "\n",
    "df = pd.read_csv(\"cleaned_insurance_data.csv\")"
   ]
  },
  {
   "cell_type": "markdown",
   "metadata": {},
   "source": [
    "3. **Analyse univariée :** Analysez chaque variable indépendamment."
   ]
  },
  {
   "cell_type": "markdown",
   "metadata": {},
   "source": [
    "- Age"
   ]
  },
  {
   "cell_type": "code",
   "execution_count": 3,
   "metadata": {},
   "outputs": [
    {
     "data": {
      "text/plain": [
       "count    1326.00\n",
       "mean       39.21\n",
       "std        14.05\n",
       "min        18.00\n",
       "25%        27.00\n",
       "50%        39.00\n",
       "75%        51.00\n",
       "max        64.00\n",
       "Name: age, dtype: float64"
      ]
     },
     "execution_count": 3,
     "metadata": {},
     "output_type": "execute_result"
    }
   ],
   "source": [
    "# Descriptive statistics\n",
    "\n",
    "round(df['age'].describe(), 2)\n",
    "\n",
    "# Minimum age = 18, Maximum age = 64, Average age = 39, Age standard deviation = ± 14"
   ]
  },
  {
   "cell_type": "code",
   "execution_count": 4,
   "metadata": {},
   "outputs": [
    {
     "data": {
      "text/plain": [
       "np.float64(39.0)"
      ]
     },
     "execution_count": 4,
     "metadata": {},
     "output_type": "execute_result"
    }
   ],
   "source": [
    "# Descriptive statistics (Median)\n",
    "\n",
    "df['age'].median() \n",
    "\n",
    "# Median age = 39"
   ]
  },
  {
   "cell_type": "code",
   "execution_count": 5,
   "metadata": {},
   "outputs": [
    {
     "data": {
      "text/plain": [
       "0    18\n",
       "1    19\n",
       "Name: age, dtype: int64"
      ]
     },
     "execution_count": 5,
     "metadata": {},
     "output_type": "execute_result"
    }
   ],
   "source": [
    "# Descriptive statistics (Mode)\n",
    "\n",
    "df['age'].mode() \n",
    "\n",
    "# The modal ages are 18 and 19, signifying a bimodal distribution "
   ]
  },
  {
   "cell_type": "code",
   "execution_count": 6,
   "metadata": {},
   "outputs": [
    {
     "data": {
      "text/plain": [
       "Text(64.72222222222221, 0.5, 'Frequency')"
      ]
     },
     "execution_count": 6,
     "metadata": {},
     "output_type": "execute_result"
    },
    {
     "data": {
      "image/png": "[encoded data removed]",
      "text/plain": [
       "<Figure size 640x480 with 1 Axes>"
      ]
     },
     "metadata": {},
     "output_type": "display_data"
    }
   ],
   "source": [
    "# Confirm bimodality with swarmplot\n",
    "\n",
    "sns.swarmplot(data=df, x=\"age\")\n",
    "plt.title(\"Distribution of the insured by age\", fontsize= 13, weight = \"bold\")\n",
    "plt.xlabel(\"Age\", weight = 10)\n",
    "plt.ylabel(\"Frequency\", weight = 10)"
   ]
  },
  {
   "cell_type": "code",
   "execution_count": 7,
   "metadata": {},
   "outputs": [
    {
     "data": {
      "text/plain": [
       "np.int64(46)"
      ]
     },
     "execution_count": 7,
     "metadata": {},
     "output_type": "execute_result"
    }
   ],
   "source": [
    "# Descriptive statistics (Range)\n",
    "\n",
    "age_range = df['age'].max() - df['age'].min()\n",
    "\n",
    "age_range\n",
    "\n",
    "# Age range of the insured = 46"
   ]
  },
  {
   "cell_type": "code",
   "execution_count": 8,
   "metadata": {},
   "outputs": [
    {
     "data": {
      "text/plain": [
       "np.float64(36.0)"
      ]
     },
     "execution_count": 8,
     "metadata": {},
     "output_type": "execute_result"
    }
   ],
   "source": [
    "# Descriptive statistics (Co-efficient of Variation)\n",
    "\n",
    "cov_age = df['age'].std() / df['age'].mean()\n",
    "\n",
    "cov_age = round(cov_age,2) * 100\n",
    "\n",
    "cov_age\n",
    "\n",
    "# The CoV of the ages of the insured is 36%"
   ]
  },
  {
   "cell_type": "markdown",
   "metadata": {},
   "source": [
    "- Sex"
   ]
  },
  {
   "cell_type": "code",
   "execution_count": 9,
   "metadata": {},
   "outputs": [
    {
     "data": {
      "text/plain": [
       "sex\n",
       "1    668\n",
       "0    658\n",
       "Name: count, dtype: int64"
      ]
     },
     "execution_count": 9,
     "metadata": {},
     "output_type": "execute_result"
    }
   ],
   "source": [
    "# Number of males and females insured\n",
    "\n",
    "number_of_insured_by_sex = df['sex'].value_counts()\n",
    "\n",
    "number_of_insured_by_sex\n",
    "\n",
    "# 668 males and 658 females are insured by the company"
   ]
  },
  {
   "cell_type": "code",
   "execution_count": 10,
   "metadata": {},
   "outputs": [
    {
     "data": {
      "text/html": [
       "<div>\n",
       "<style scoped>\n",
       "    .dataframe tbody tr th:only-of-type {\n",
       "        vertical-align: middle;\n",
       "    }\n",
       "\n",
       "    .dataframe tbody tr th {\n",
       "        vertical-align: top;\n",
       "    }\n",
       "\n",
       "    .dataframe thead th {\n",
       "        text-align: right;\n",
       "    }\n",
       "</style>\n",
       "<table border=\"1\" class=\"dataframe\">\n",
       "  <thead>\n",
       "    <tr style=\"text-align: right;\">\n",
       "      <th></th>\n",
       "      <th>sex</th>\n",
       "      <th>count</th>\n",
       "      <th>percentage</th>\n",
       "    </tr>\n",
       "  </thead>\n",
       "  <tbody>\n",
       "    <tr>\n",
       "      <th>0</th>\n",
       "      <td>Male</td>\n",
       "      <td>668</td>\n",
       "      <td>50.377074</td>\n",
       "    </tr>\n",
       "    <tr>\n",
       "      <th>1</th>\n",
       "      <td>Female</td>\n",
       "      <td>658</td>\n",
       "      <td>49.622926</td>\n",
       "    </tr>\n",
       "  </tbody>\n",
       "</table>\n",
       "</div>"
      ],
      "text/plain": [
       "      sex  count  percentage\n",
       "0    Male    668   50.377074\n",
       "1  Female    658   49.622926"
      ]
     },
     "execution_count": 10,
     "metadata": {},
     "output_type": "execute_result"
    }
   ],
   "source": [
    "# Create dataframe for pie chart\n",
    "\n",
    "pie_df = pd.DataFrame(number_of_insured_by_sex).reset_index()\n",
    "pie_df['sex'] = pie_df['sex'].map({1 : \"Male\", 0 : \"Female\"})\n",
    "pie_df['percentage'] = pie_df['count'] / pie_df['count'].sum() * 100\n",
    "\n",
    "pie_df"
   ]
  },
  {
   "cell_type": "code",
   "execution_count": 11,
   "metadata": {},
   "outputs": [
    {
     "data": {
      "image/png": "[encoded data removed]",
      "text/plain": [
       "<Figure size 600x300 with 1 Axes>"
      ]
     },
     "metadata": {},
     "output_type": "display_data"
    }
   ],
   "source": [
    "# Pie chart showing the percentage ratio of males to females\n",
    "\n",
    "fig, ax = plt.subplots(figsize=(6, 3), subplot_kw=dict(aspect=\"equal\"))\n",
    "\n",
    "wedges, texts = ax.pie(pie_df['count'], wedgeprops=dict(width=0.5), startangle=-40)\n",
    "\n",
    "bbox_props = dict(boxstyle=\"square,pad=0.3\", fc=\"w\", ec=\"k\", lw=0.72)\n",
    "kw = dict(arrowprops=dict(arrowstyle=\"-\"),\n",
    "          bbox=bbox_props, zorder=0, va=\"center\")\n",
    "\n",
    "for i, p in enumerate(wedges):\n",
    "    ang = (p.theta2 - p.theta1)/2. + p.theta1\n",
    "    y = np.sin(np.deg2rad(ang))\n",
    "    x = np.cos(np.deg2rad(ang))\n",
    "    horizontalalignment = {-1: \"right\", 1: \"left\"}[int(np.sign(x))]\n",
    "    connectionstyle = f\"angle,angleA=0,angleB={ang}\"\n",
    "    kw[\"arrowprops\"].update({\"connectionstyle\": connectionstyle})\n",
    "    ax.annotate(pie_df['sex'][i], xy=(x, y), xytext=(1.35*np.sign(x), 1.4*y),\n",
    "                horizontalalignment=horizontalalignment, **kw)\n",
    "\n",
    "    label = f\"{pie_df['sex'][i]} ({pie_df['percentage'][i]:.1f}%)\"\n",
    "    ax.annotate(\n",
    "        label, \n",
    "        xy=(x, y), \n",
    "        xytext=(1.35 * np.sign(x), 1.4 * y),\n",
    "        horizontalalignment=horizontalalignment, \n",
    "        **kw\n",
    "    )\n",
    "\n",
    "ax.set_title(\"Percentage of insured by sex\", fontsize=13, weight=\"bold\")\n",
    "\n",
    "plt.show()\n",
    "\n",
    "# Males represent 50.4% of the insured while females represent 49.6% of the insured. "
   ]
  },
  {
   "cell_type": "markdown",
   "metadata": {},
   "source": [
    "- BMI"
   ]
  },
  {
   "cell_type": "code",
   "execution_count": 12,
   "metadata": {},
   "outputs": [
    {
     "data": {
      "text/plain": [
       "count    1326.00\n",
       "mean       30.56\n",
       "std         5.97\n",
       "min        15.96\n",
       "25%        26.22\n",
       "50%        30.30\n",
       "75%        34.49\n",
       "max        47.74\n",
       "Name: bmi, dtype: float64"
      ]
     },
     "execution_count": 12,
     "metadata": {},
     "output_type": "execute_result"
    }
   ],
   "source": [
    "# Descriptive statistics\n",
    "\n",
    "round(df['bmi'].describe(), 2)\n",
    "\n",
    "# Minimum bmi = 16, Maximum bmi = 47.7, Average bmi = 30.6, bmi standard deviation = ± 6"
   ]
  },
  {
   "cell_type": "code",
   "execution_count": 13,
   "metadata": {},
   "outputs": [
    {
     "data": {
      "text/plain": [
       "np.float64(30.3)"
      ]
     },
     "execution_count": 13,
     "metadata": {},
     "output_type": "execute_result"
    }
   ],
   "source": [
    "# Descriptive statistics (Median)\n",
    "\n",
    "df['bmi'].median() \n",
    "\n",
    "# Median age = 30.3"
   ]
  },
  {
   "cell_type": "code",
   "execution_count": 14,
   "metadata": {},
   "outputs": [
    {
     "data": {
      "text/plain": [
       "0    32.3\n",
       "Name: bmi, dtype: float64"
      ]
     },
     "execution_count": 14,
     "metadata": {},
     "output_type": "execute_result"
    }
   ],
   "source": [
    "# Descriptive statistics (Mode)\n",
    "\n",
    "df['bmi'].mode() \n",
    "\n",
    "# The modal BMI = 32.3, signifying a unimodal distribution "
   ]
  },
  {
   "cell_type": "code",
   "execution_count": 15,
   "metadata": {},
   "outputs": [
    {
     "data": {
      "text/plain": [
       "Text(0.6944444444444446, 0.5, 'Frequency')"
      ]
     },
     "execution_count": 15,
     "metadata": {},
     "output_type": "execute_result"
    },
    {
     "data": {
      "image/png": "[encoded data removed]",
      "text/plain": [
       "<Figure size 500x500 with 1 Axes>"
      ]
     },
     "metadata": {},
     "output_type": "display_data"
    }
   ],
   "source": [
    "# Confirm mode with plot\n",
    "\n",
    "sns.displot(df, x = 'bmi', kind='kde')\n",
    "plt.title(\"Distribution of the insured by BMI\", fontsize= 13, weight = \"bold\")\n",
    "plt.xlabel(\"BMI\", weight = 10)\n",
    "plt.ylabel(\"Frequency\", weight = 10)"
   ]
  },
  {
   "cell_type": "code",
   "execution_count": 16,
   "metadata": {},
   "outputs": [
    {
     "data": {
      "text/plain": [
       "np.float64(31.78)"
      ]
     },
     "execution_count": 16,
     "metadata": {},
     "output_type": "execute_result"
    }
   ],
   "source": [
    "# Descriptive statistics (Range)\n",
    "\n",
    "bmi_range = df['bmi'].max() - df['bmi'].min()\n",
    "\n",
    "bmi_range\n",
    "\n",
    "# BMI range of the insured = 31.78"
   ]
  },
  {
   "cell_type": "code",
   "execution_count": 17,
   "metadata": {},
   "outputs": [
    {
     "data": {
      "text/plain": [
       "np.float64(20.0)"
      ]
     },
     "execution_count": 17,
     "metadata": {},
     "output_type": "execute_result"
    }
   ],
   "source": [
    "# Descriptive statistics (Co-efficient of Variation)\n",
    "\n",
    "cov_bmi = df['bmi'].std() / df['bmi'].mean()\n",
    "\n",
    "cov_bmi = round(cov_bmi, 2) * 100\n",
    "\n",
    "cov_bmi\n",
    "\n",
    "# The CoV of the BMI of the insured = 20%"
   ]
  },
  {
   "cell_type": "markdown",
   "metadata": {},
   "source": [
    "- Children"
   ]
  },
  {
   "cell_type": "code",
   "execution_count": 18,
   "metadata": {},
   "outputs": [
    {
     "data": {
      "text/plain": [
       "count    1326.00\n",
       "mean        1.10\n",
       "std         1.21\n",
       "min         0.00\n",
       "25%         0.00\n",
       "50%         1.00\n",
       "75%         2.00\n",
       "max         5.00\n",
       "Name: children, dtype: float64"
      ]
     },
     "execution_count": 18,
     "metadata": {},
     "output_type": "execute_result"
    }
   ],
   "source": [
    "# Descriptive statistics\n",
    "\n",
    "round(df['children'].describe(), 2)\n",
    "\n",
    "# Information on clients' number(s) of children \n",
    "# Minimum number of children = 0, Maximum number of children = 5, \n",
    "# Average number of children = 1, Number of chimdren standard deviation = ± 1"
   ]
  },
  {
   "cell_type": "code",
   "execution_count": 19,
   "metadata": {},
   "outputs": [
    {
     "data": {
      "text/plain": [
       "np.float64(1.0)"
      ]
     },
     "execution_count": 19,
     "metadata": {},
     "output_type": "execute_result"
    }
   ],
   "source": [
    "# Descriptive statistics (Median)\n",
    "\n",
    "df['children'].median() \n",
    "\n",
    "# Median number of children had by clients = 1"
   ]
  },
  {
   "cell_type": "code",
   "execution_count": 20,
   "metadata": {},
   "outputs": [
    {
     "data": {
      "text/plain": [
       "0    0\n",
       "Name: children, dtype: int64"
      ]
     },
     "execution_count": 20,
     "metadata": {},
     "output_type": "execute_result"
    }
   ],
   "source": [
    "# Descriptive statistics (Mode)\n",
    "\n",
    "df['children'].mode() \n",
    "\n",
    "# Most of the clients insured have no children\n",
    "# Mode = 0"
   ]
  },
  {
   "cell_type": "code",
   "execution_count": 21,
   "metadata": {},
   "outputs": [
    {
     "data": {
      "text/plain": [
       "Text(5.069444444444445, 0.5, 'Frequency')"
      ]
     },
     "execution_count": 21,
     "metadata": {},
     "output_type": "execute_result"
    },
    {
     "data": {
      "image/png": "[encoded data removed]",
      "text/plain": [
       "<Figure size 500x500 with 1 Axes>"
      ]
     },
     "metadata": {},
     "output_type": "display_data"
    }
   ],
   "source": [
    "# Confirm mode with plot\n",
    "\n",
    "sns.displot(df, x = 'children', kind='hist')\n",
    "plt.title(\"Distribution of the insured by children count\", fontsize= 13, weight = \"bold\")\n",
    "plt.xlabel(\"Number of children\", weight = 10)\n",
    "plt.ylabel(\"Frequency\", weight = 10)"
   ]
  },
  {
   "cell_type": "code",
   "execution_count": 22,
   "metadata": {},
   "outputs": [
    {
     "data": {
      "text/plain": [
       "np.int64(5)"
      ]
     },
     "execution_count": 22,
     "metadata": {},
     "output_type": "execute_result"
    }
   ],
   "source": [
    "# Descriptive statistics (Range)\n",
    "\n",
    "children_no_range = df['children'].max() - df['children'].min()\n",
    "\n",
    "children_no_range\n",
    "\n",
    "# children_no_range of the insured = 5"
   ]
  },
  {
   "cell_type": "code",
   "execution_count": 23,
   "metadata": {},
   "outputs": [
    {
     "data": {
      "text/plain": [
       "np.float64(110.00000000000001)"
      ]
     },
     "execution_count": 23,
     "metadata": {},
     "output_type": "execute_result"
    }
   ],
   "source": [
    "# Descriptive statistics (Co-efficient of Variation)\n",
    "\n",
    "cov_children = df['children'].std() / df['children'].mean()\n",
    "\n",
    "cov_children = round(cov_children, 2) * 100\n",
    "\n",
    "cov_children\n",
    "\n",
    "# The CoV of the number of children of the insured = 110%"
   ]
  },
  {
   "cell_type": "code",
   "execution_count": 24,
   "metadata": {},
   "outputs": [
    {
     "data": {
      "text/plain": [
       "children\n",
       "0    568\n",
       "1    320\n",
       "2    239\n",
       "3    156\n",
       "4     25\n",
       "5     18\n",
       "Name: count, dtype: int64"
      ]
     },
     "execution_count": 24,
     "metadata": {},
     "output_type": "execute_result"
    }
   ],
   "source": [
    "number_of_children_by_insured = df['children'].value_counts()\n",
    "\n",
    "number_of_children_by_insured"
   ]
  },
  {
   "cell_type": "code",
   "execution_count": 25,
   "metadata": {},
   "outputs": [
    {
     "data": {
      "text/html": [
       "<div>\n",
       "<style scoped>\n",
       "    .dataframe tbody tr th:only-of-type {\n",
       "        vertical-align: middle;\n",
       "    }\n",
       "\n",
       "    .dataframe tbody tr th {\n",
       "        vertical-align: top;\n",
       "    }\n",
       "\n",
       "    .dataframe thead th {\n",
       "        text-align: right;\n",
       "    }\n",
       "</style>\n",
       "<table border=\"1\" class=\"dataframe\">\n",
       "  <thead>\n",
       "    <tr style=\"text-align: right;\">\n",
       "      <th></th>\n",
       "      <th>children</th>\n",
       "      <th>count</th>\n",
       "      <th>percentage</th>\n",
       "    </tr>\n",
       "  </thead>\n",
       "  <tbody>\n",
       "    <tr>\n",
       "      <th>0</th>\n",
       "      <td>2</td>\n",
       "      <td>239</td>\n",
       "      <td>18.02</td>\n",
       "    </tr>\n",
       "    <tr>\n",
       "      <th>1</th>\n",
       "      <td>4</td>\n",
       "      <td>25</td>\n",
       "      <td>1.89</td>\n",
       "    </tr>\n",
       "    <tr>\n",
       "      <th>2</th>\n",
       "      <td>1</td>\n",
       "      <td>320</td>\n",
       "      <td>24.13</td>\n",
       "    </tr>\n",
       "    <tr>\n",
       "      <th>3</th>\n",
       "      <td>3</td>\n",
       "      <td>156</td>\n",
       "      <td>11.76</td>\n",
       "    </tr>\n",
       "    <tr>\n",
       "      <th>4</th>\n",
       "      <td>5</td>\n",
       "      <td>18</td>\n",
       "      <td>1.36</td>\n",
       "    </tr>\n",
       "    <tr>\n",
       "      <th>5</th>\n",
       "      <td>0</td>\n",
       "      <td>568</td>\n",
       "      <td>42.84</td>\n",
       "    </tr>\n",
       "  </tbody>\n",
       "</table>\n",
       "</div>"
      ],
      "text/plain": [
       "   children  count  percentage\n",
       "0         2    239       18.02\n",
       "1         4     25        1.89\n",
       "2         1    320       24.13\n",
       "3         3    156       11.76\n",
       "4         5     18        1.36\n",
       "5         0    568       42.84"
      ]
     },
     "execution_count": 25,
     "metadata": {},
     "output_type": "execute_result"
    }
   ],
   "source": [
    "# Create dataframe for pie chart\n",
    "\n",
    "pie_df_children = pd.DataFrame(number_of_children_by_insured).reset_index()\n",
    "pie_df_children['percentage'] = round(pie_df_children['count'] / pie_df_children['count'].sum() * 100, 2)\n",
    "\n",
    "shuffled_pie_df_children = pie_df_children.sample(frac=1, random_state=75).reset_index(drop=True)\n",
    "\n",
    "shuffled_pie_df_children"
   ]
  },
  {
   "cell_type": "code",
   "execution_count": 26,
   "metadata": {},
   "outputs": [
    {
     "data": {
      "image/png": "[encoded data removed]",
      "text/plain": [
       "<Figure size 400x700 with 1 Axes>"
      ]
     },
     "metadata": {},
     "output_type": "display_data"
    }
   ],
   "source": [
    "# Pie chart showing the percentage ratio by number of children\n",
    "\n",
    "fig, ax = plt.subplots(figsize=(4, 7), subplot_kw=dict(aspect=\"equal\"))\n",
    "\n",
    "wedges, texts = ax.pie(shuffled_pie_df_children['count'], wedgeprops=dict(width=0.5), startangle=-56)\n",
    "\n",
    "bbox_props = dict(boxstyle=\"square,pad=0.3\", fc=\"w\", ec=\"k\", lw=0.72)\n",
    "kw = dict(arrowprops=dict(arrowstyle=\"-\"),\n",
    "          bbox=bbox_props, zorder=0, va=\"center\")\n",
    "\n",
    "for i, p in enumerate(wedges):\n",
    "    ang = (p.theta2 - p.theta1)/2. + p.theta1\n",
    "    y = np.sin(np.deg2rad(ang))\n",
    "    x = np.cos(np.deg2rad(ang))\n",
    "    horizontalalignment = {-1: \"right\", 1: \"left\"}[int(np.sign(x))]\n",
    "    connectionstyle = f\"angle,angleA=0,angleB={ang}\"\n",
    "    kw[\"arrowprops\"].update({\"connectionstyle\": connectionstyle})\n",
    "    ax.annotate(shuffled_pie_df_children['children'][i], xy=(x, y), xytext=(1.35*np.sign(x), 1.4*y),\n",
    "                horizontalalignment=horizontalalignment, **kw)\n",
    "\n",
    "    label = f\"{shuffled_pie_df_children['children'][i]} ({shuffled_pie_df_children['percentage'][i]:.1f}%)\"\n",
    "    ax.annotate(\n",
    "        label, \n",
    "        xy=(x, y), \n",
    "        xytext=(1.35 * np.sign(x), 1.4 * y),\n",
    "        horizontalalignment=horizontalalignment, \n",
    "        **kw\n",
    "    )\n",
    "\n",
    "ax.set_title(\"Percentage of insured by number of children\", fontsize = 13, weight = \"bold\")\n",
    "\n",
    "plt.show()"
   ]
  },
  {
   "cell_type": "markdown",
   "metadata": {},
   "source": [
    "- Smokers"
   ]
  },
  {
   "cell_type": "code",
   "execution_count": 27,
   "metadata": {},
   "outputs": [
    {
     "data": {
      "text/plain": [
       "smoker\n",
       "0    1060\n",
       "1     266\n",
       "Name: count, dtype: int64"
      ]
     },
     "execution_count": 27,
     "metadata": {},
     "output_type": "execute_result"
    }
   ],
   "source": [
    "# Number of smokers vs non-smokers insured\n",
    "\n",
    "number_of_insured_by_smoking_habit = df['smoker'].value_counts()\n",
    "\n",
    "number_of_insured_by_smoking_habit\n",
    "\n",
    "# Number of smokers = 1060 \n",
    "# Number of non-smokers = 255"
   ]
  },
  {
   "cell_type": "code",
   "execution_count": 28,
   "metadata": {},
   "outputs": [
    {
     "data": {
      "text/html": [
       "<div>\n",
       "<style scoped>\n",
       "    .dataframe tbody tr th:only-of-type {\n",
       "        vertical-align: middle;\n",
       "    }\n",
       "\n",
       "    .dataframe tbody tr th {\n",
       "        vertical-align: top;\n",
       "    }\n",
       "\n",
       "    .dataframe thead th {\n",
       "        text-align: right;\n",
       "    }\n",
       "</style>\n",
       "<table border=\"1\" class=\"dataframe\">\n",
       "  <thead>\n",
       "    <tr style=\"text-align: right;\">\n",
       "      <th></th>\n",
       "      <th>smoker</th>\n",
       "      <th>count</th>\n",
       "      <th>percentage</th>\n",
       "    </tr>\n",
       "  </thead>\n",
       "  <tbody>\n",
       "    <tr>\n",
       "      <th>0</th>\n",
       "      <td>Non-smoker</td>\n",
       "      <td>1060</td>\n",
       "      <td>79.939668</td>\n",
       "    </tr>\n",
       "    <tr>\n",
       "      <th>1</th>\n",
       "      <td>Smoker</td>\n",
       "      <td>266</td>\n",
       "      <td>20.060332</td>\n",
       "    </tr>\n",
       "  </tbody>\n",
       "</table>\n",
       "</div>"
      ],
      "text/plain": [
       "       smoker  count  percentage\n",
       "0  Non-smoker   1060   79.939668\n",
       "1      Smoker    266   20.060332"
      ]
     },
     "execution_count": 28,
     "metadata": {},
     "output_type": "execute_result"
    }
   ],
   "source": [
    "# Create dataframe for pie chart\n",
    "\n",
    "pie_df_smoker = pd.DataFrame(number_of_insured_by_smoking_habit).reset_index()\n",
    "pie_df_smoker['smoker'] = pie_df_smoker['smoker'].map({ 1 : \"Smoker\", 0 : \"Non-smoker\"})\n",
    "pie_df_smoker['percentage'] = pie_df_smoker['count'] / pie_df_smoker['count'].sum() * 100\n",
    "\n",
    "pie_df_smoker"
   ]
  },
  {
   "cell_type": "code",
   "execution_count": 29,
   "metadata": {},
   "outputs": [
    {
     "data": {
      "image/png": "[encoded data removed]",
      "text/plain": [
       "<Figure size 400x700 with 1 Axes>"
      ]
     },
     "metadata": {},
     "output_type": "display_data"
    }
   ],
   "source": [
    "# Pie chart showing the percentage ratio by number of children\n",
    "\n",
    "fig, ax = plt.subplots(figsize=(4, 7), subplot_kw=dict(aspect=\"equal\"))\n",
    "\n",
    "wedges, texts = ax.pie(pie_df_smoker['count'], wedgeprops=dict(width=0.5), startangle=-12)\n",
    "\n",
    "bbox_props = dict(boxstyle=\"square,pad=0.3\", fc=\"w\", ec=\"k\", lw=0.72)\n",
    "kw = dict(arrowprops=dict(arrowstyle=\"-\"),\n",
    "          bbox=bbox_props, zorder=0, va=\"center\")\n",
    "\n",
    "for i, p in enumerate(wedges):\n",
    "    ang = (p.theta2 - p.theta1)/2. + p.theta1\n",
    "    y = np.sin(np.deg2rad(ang))\n",
    "    x = np.cos(np.deg2rad(ang))\n",
    "    horizontalalignment = {-1: \"right\", 1: \"left\"}[int(np.sign(x))]\n",
    "    connectionstyle = f\"angle,angleA=0,angleB={ang}\"\n",
    "    kw[\"arrowprops\"].update({\"connectionstyle\": connectionstyle})\n",
    "    ax.annotate(pie_df_smoker['smoker'][i], xy=(x, y), xytext=(1.35*np.sign(x), 1.4*y),\n",
    "                horizontalalignment=horizontalalignment, **kw)\n",
    "\n",
    "    label = f\"{pie_df_smoker['smoker'][i]} ({pie_df_smoker['percentage'][i]:.1f}%)\"\n",
    "    ax.annotate(\n",
    "        label, \n",
    "        xy=(x, y), \n",
    "        xytext=(1.35 * np.sign(x), 1.4 * y),\n",
    "        horizontalalignment=horizontalalignment, \n",
    "        **kw\n",
    "    )\n",
    "\n",
    "ax.set_title(\"Percentage of insured by smoking habit\", fontsize = 13, weight = \"bold\")\n",
    "\n",
    "plt.show()"
   ]
  },
  {
   "cell_type": "markdown",
   "metadata": {},
   "source": [
    "- Region"
   ]
  },
  {
   "cell_type": "code",
   "execution_count": 30,
   "metadata": {},
   "outputs": [
    {
     "data": {
      "text/plain": [
       "array(['southwest', 'southeast', 'northwest', 'northeast'], dtype=object)"
      ]
     },
     "execution_count": 30,
     "metadata": {},
     "output_type": "execute_result"
    }
   ],
   "source": [
    "# Confirm the number of regions in dataset\n",
    "\n",
    "df['region'].unique()"
   ]
  },
  {
   "cell_type": "code",
   "execution_count": 31,
   "metadata": {},
   "outputs": [
    {
     "data": {
      "text/plain": [
       "region\n",
       "southeast    358\n",
       "southwest    323\n",
       "northwest    323\n",
       "northeast    322\n",
       "Name: count, dtype: int64"
      ]
     },
     "execution_count": 31,
     "metadata": {},
     "output_type": "execute_result"
    }
   ],
   "source": [
    "# Number of smokers vs non-smokers insured\n",
    "\n",
    "number_of_insured_by_region = df['region'].value_counts()\n",
    "\n",
    "number_of_insured_by_region\n",
    "\n",
    "# southeast = 358, southwest = 323, northwest = 323, northeast = 322"
   ]
  },
  {
   "cell_type": "code",
   "execution_count": 32,
   "metadata": {},
   "outputs": [
    {
     "data": {
      "text/html": [
       "<div>\n",
       "<style scoped>\n",
       "    .dataframe tbody tr th:only-of-type {\n",
       "        vertical-align: middle;\n",
       "    }\n",
       "\n",
       "    .dataframe tbody tr th {\n",
       "        vertical-align: top;\n",
       "    }\n",
       "\n",
       "    .dataframe thead th {\n",
       "        text-align: right;\n",
       "    }\n",
       "</style>\n",
       "<table border=\"1\" class=\"dataframe\">\n",
       "  <thead>\n",
       "    <tr style=\"text-align: right;\">\n",
       "      <th></th>\n",
       "      <th>region</th>\n",
       "      <th>count</th>\n",
       "      <th>percentage</th>\n",
       "    </tr>\n",
       "  </thead>\n",
       "  <tbody>\n",
       "    <tr>\n",
       "      <th>0</th>\n",
       "      <td>southeast</td>\n",
       "      <td>358</td>\n",
       "      <td>26.998492</td>\n",
       "    </tr>\n",
       "    <tr>\n",
       "      <th>1</th>\n",
       "      <td>southwest</td>\n",
       "      <td>323</td>\n",
       "      <td>24.358974</td>\n",
       "    </tr>\n",
       "    <tr>\n",
       "      <th>2</th>\n",
       "      <td>northwest</td>\n",
       "      <td>323</td>\n",
       "      <td>24.358974</td>\n",
       "    </tr>\n",
       "    <tr>\n",
       "      <th>3</th>\n",
       "      <td>northeast</td>\n",
       "      <td>322</td>\n",
       "      <td>24.283560</td>\n",
       "    </tr>\n",
       "  </tbody>\n",
       "</table>\n",
       "</div>"
      ],
      "text/plain": [
       "      region  count  percentage\n",
       "0  southeast    358   26.998492\n",
       "1  southwest    323   24.358974\n",
       "2  northwest    323   24.358974\n",
       "3  northeast    322   24.283560"
      ]
     },
     "execution_count": 32,
     "metadata": {},
     "output_type": "execute_result"
    }
   ],
   "source": [
    "# Create dataframe for pie chart\n",
    "\n",
    "pie_df_region = pd.DataFrame(number_of_insured_by_region).reset_index()\n",
    "pie_df_region['percentage'] = pie_df_region['count'] / pie_df_region['count'].sum() * 100\n",
    "\n",
    "pie_df_region"
   ]
  },
  {
   "cell_type": "code",
   "execution_count": 33,
   "metadata": {},
   "outputs": [
    {
     "data": {
      "image/png": "[encoded data removed]",
      "text/plain": [
       "<Figure size 400x700 with 1 Axes>"
      ]
     },
     "metadata": {},
     "output_type": "display_data"
    }
   ],
   "source": [
    "# Pie chart showing the percentage ratio of the insured by region\n",
    "\n",
    "fig, ax = plt.subplots(figsize=(4, 7), subplot_kw=dict(aspect=\"equal\"))\n",
    "\n",
    "wedges, texts = ax.pie(pie_df_region['count'], wedgeprops=dict(width=0.5), startangle=-12)\n",
    "\n",
    "bbox_props = dict(boxstyle=\"square,pad=0.3\", fc=\"w\", ec=\"k\", lw=0.72)\n",
    "kw = dict(arrowprops=dict(arrowstyle=\"-\"),\n",
    "          bbox=bbox_props, zorder=0, va=\"center\")\n",
    "\n",
    "for i, p in enumerate(wedges):\n",
    "    ang = (p.theta2 - p.theta1)/2. + p.theta1\n",
    "    y = np.sin(np.deg2rad(ang))\n",
    "    x = np.cos(np.deg2rad(ang))\n",
    "    horizontalalignment = {-1: \"right\", 1: \"left\"}[int(np.sign(x))]\n",
    "    connectionstyle = f\"angle,angleA=0,angleB={ang}\"\n",
    "    kw[\"arrowprops\"].update({\"connectionstyle\": connectionstyle})\n",
    "    ax.annotate(pie_df_region['region'][i], xy=(x, y), xytext=(1.35*np.sign(x), 1.4*y),\n",
    "                horizontalalignment=horizontalalignment, **kw)\n",
    "\n",
    "    label = f\"{pie_df_region['region'][i]} ({pie_df_region['percentage'][i]:.1f}%)\"\n",
    "    ax.annotate(\n",
    "        label, \n",
    "        xy=(x, y), \n",
    "        xytext=(1.35 * np.sign(x), 1.4 * y),\n",
    "        horizontalalignment=horizontalalignment, \n",
    "        **kw\n",
    "    )\n",
    "\n",
    "ax.set_title(\"Percentage of insured by region\", fontsize = 13, weight = \"bold\")\n",
    "\n",
    "plt.show()"
   ]
  },
  {
   "cell_type": "markdown",
   "metadata": {},
   "source": [
    "- Charge"
   ]
  },
  {
   "cell_type": "code",
   "execution_count": 34,
   "metadata": {},
   "outputs": [
    {
     "data": {
      "text/plain": [
       "count     1326.00\n",
       "mean     13033.96\n",
       "std      11680.81\n",
       "min       1121.87\n",
       "25%       4724.37\n",
       "50%       9296.02\n",
       "75%      16389.83\n",
       "max      49577.66\n",
       "Name: charges, dtype: float64"
      ]
     },
     "execution_count": 34,
     "metadata": {},
     "output_type": "execute_result"
    }
   ],
   "source": [
    "# Descriptive statistics\n",
    "\n",
    "round(df['charges'].describe(), 2)\n",
    "\n",
    "# Minimum charge = 1121.87, Maximum charge = 49577.66, Average charge = 13033.96, Charge standard deviation = ± 11680.81"
   ]
  },
  {
   "cell_type": "code",
   "execution_count": 35,
   "metadata": {},
   "outputs": [
    {
     "data": {
      "text/plain": [
       "np.float64(9296.02)"
      ]
     },
     "execution_count": 35,
     "metadata": {},
     "output_type": "execute_result"
    }
   ],
   "source": [
    "# Descriptive statistics (Median)\n",
    "\n",
    "round(df['charges'].median(), 2)\n",
    "\n",
    "# Median charge = 9296.02"
   ]
  },
  {
   "cell_type": "code",
   "execution_count": 36,
   "metadata": {},
   "outputs": [
    {
     "data": {
      "text/plain": [
       "0    1639.56\n",
       "Name: charges, dtype: float64"
      ]
     },
     "execution_count": 36,
     "metadata": {},
     "output_type": "execute_result"
    }
   ],
   "source": [
    "# Descriptive statistics (Mode)\n",
    "\n",
    "round(df['charges'].mode(), 2)\n",
    "\n",
    "# Modal charge = 1639.56"
   ]
  },
  {
   "cell_type": "code",
   "execution_count": 37,
   "metadata": {},
   "outputs": [
    {
     "data": {
      "text/plain": [
       "Text(5.069444444444445, 0.5, 'Frequency')"
      ]
     },
     "execution_count": 37,
     "metadata": {},
     "output_type": "execute_result"
    },
    {
     "data": {
      "image/png": "[encoded data removed]",
      "text/plain": [
       "<Figure size 500x500 with 1 Axes>"
      ]
     },
     "metadata": {},
     "output_type": "display_data"
    }
   ],
   "source": [
    "# Confirm mode with plot\n",
    "\n",
    "sns.displot(df, x = 'charges', kind='hist')\n",
    "plt.title(\"Distribution of the insured by charges\", fontsize= 13, weight = \"bold\")\n",
    "plt.xlabel(\"BMI\", weight = 10)\n",
    "plt.ylabel(\"Frequency\", weight = 10)"
   ]
  },
  {
   "cell_type": "code",
   "execution_count": 38,
   "metadata": {},
   "outputs": [
    {
     "data": {
      "text/plain": [
       "np.float64(48455.79)"
      ]
     },
     "execution_count": 38,
     "metadata": {},
     "output_type": "execute_result"
    }
   ],
   "source": [
    "# Descriptive statistics (Range)\n",
    "\n",
    "round(df['charges'].max() - df['charges'].min(), 2)\n",
    "\n",
    "# Charge range = 48455.79"
   ]
  },
  {
   "cell_type": "code",
   "execution_count": 39,
   "metadata": {},
   "outputs": [
    {
     "data": {
      "text/plain": [
       "np.float64(90.0)"
      ]
     },
     "execution_count": 39,
     "metadata": {},
     "output_type": "execute_result"
    }
   ],
   "source": [
    "# Descriptive statistics (Co-efficient of Variation)\n",
    "\n",
    "cov_charges = df['charges'].std() / df['charges'].mean()\n",
    "\n",
    "cov_charges = round(cov_charges, 2) * 100\n",
    "\n",
    "cov_charges\n",
    "\n",
    "# The CoV of the number of children of the insured = 90%"
   ]
  },
  {
   "cell_type": "code",
   "execution_count": 40,
   "metadata": {},
   "outputs": [
    {
     "data": {
      "text/html": [
       "<div>\n",
       "<style scoped>\n",
       "    .dataframe tbody tr th:only-of-type {\n",
       "        vertical-align: middle;\n",
       "    }\n",
       "\n",
       "    .dataframe tbody tr th {\n",
       "        vertical-align: top;\n",
       "    }\n",
       "\n",
       "    .dataframe thead th {\n",
       "        text-align: right;\n",
       "    }\n",
       "</style>\n",
       "<table border=\"1\" class=\"dataframe\">\n",
       "  <thead>\n",
       "    <tr style=\"text-align: right;\">\n",
       "      <th></th>\n",
       "      <th>Parameters</th>\n",
       "      <th>CoV</th>\n",
       "    </tr>\n",
       "  </thead>\n",
       "  <tbody>\n",
       "    <tr>\n",
       "      <th>0</th>\n",
       "      <td>Age</td>\n",
       "      <td>36.0</td>\n",
       "    </tr>\n",
       "    <tr>\n",
       "      <th>1</th>\n",
       "      <td>BMI</td>\n",
       "      <td>20.0</td>\n",
       "    </tr>\n",
       "    <tr>\n",
       "      <th>2</th>\n",
       "      <td>Children</td>\n",
       "      <td>110.0</td>\n",
       "    </tr>\n",
       "    <tr>\n",
       "      <th>3</th>\n",
       "      <td>Charges</td>\n",
       "      <td>90.0</td>\n",
       "    </tr>\n",
       "  </tbody>\n",
       "</table>\n",
       "</div>"
      ],
      "text/plain": [
       "  Parameters    CoV\n",
       "0        Age   36.0\n",
       "1        BMI   20.0\n",
       "2   Children  110.0\n",
       "3    Charges   90.0"
      ]
     },
     "execution_count": 40,
     "metadata": {},
     "output_type": "execute_result"
    }
   ],
   "source": [
    "cov_outputs = [cov_age, cov_bmi, cov_children, cov_charges]\n",
    "\n",
    "df_cov_plot = pd.DataFrame({\"Parameters\" : [\"Age\", \"BMI\", \"Children\", \"Charges\"], \"CoV\": cov_outputs})\n",
    "\n",
    "df_cov_plot"
   ]
  },
  {
   "cell_type": "code",
   "execution_count": 41,
   "metadata": {},
   "outputs": [
    {
     "data": {
      "text/plain": [
       "Text(0, 0.5, 'CoV (%)')"
      ]
     },
     "execution_count": 41,
     "metadata": {},
     "output_type": "execute_result"
    },
    {
     "data": {
      "image/png": "[encoded data removed]",
      "text/plain": [
       "<Figure size 640x480 with 1 Axes>"
      ]
     },
     "metadata": {},
     "output_type": "display_data"
    }
   ],
   "source": [
    "sns.barplot(data=df_cov_plot, x = 'Parameters', y = 'CoV')\n",
    "plt.title(\"Co-efficient of variation (Age, BMI, Children, Charges)\", fontsize= 13, weight = \"bold\")\n",
    "plt.xlabel(\"Parameters\", weight = 10)\n",
    "plt.ylabel(\"CoV (%)\", weight = 10)"
   ]
  },
  {
   "cell_type": "markdown",
   "metadata": {},
   "source": [
    "4. **Corrélation des variables :** Étudiez les corrélations avec la variable cible."
   ]
  },
  {
   "cell_type": "code",
   "execution_count": 42,
   "metadata": {},
   "outputs": [],
   "source": [
    "# Duplicate dataframe\n",
    "\n",
    "df_for_cor = df.copy()"
   ]
  },
  {
   "cell_type": "code",
   "execution_count": 43,
   "metadata": {},
   "outputs": [],
   "source": [
    "# Hot encode region column\n",
    "\n",
    "df_for_cor['is_southwest'] = df_for_cor['region'].apply(lambda x: 1 if x == \"southwest\" else 0)\n",
    "df_for_cor['is_southeast'] = df_for_cor['region'].apply(lambda x: 1 if x == \"southeast\" else 0)\n",
    "df_for_cor['is_northwest'] = df_for_cor['region'].apply(lambda x: 1 if x == \"northwest\" else 0)\n",
    "df_for_cor['is_northeast'] = df_for_cor['region'].apply(lambda x: 1 if x == \"northeast\" else 0)"
   ]
  },
  {
   "cell_type": "code",
   "execution_count": 44,
   "metadata": {},
   "outputs": [
    {
     "data": {
      "text/html": [
       "<div>\n",
       "<style scoped>\n",
       "    .dataframe tbody tr th:only-of-type {\n",
       "        vertical-align: middle;\n",
       "    }\n",
       "\n",
       "    .dataframe tbody tr th {\n",
       "        vertical-align: top;\n",
       "    }\n",
       "\n",
       "    .dataframe thead th {\n",
       "        text-align: right;\n",
       "    }\n",
       "</style>\n",
       "<table border=\"1\" class=\"dataframe\">\n",
       "  <thead>\n",
       "    <tr style=\"text-align: right;\">\n",
       "      <th></th>\n",
       "      <th>age</th>\n",
       "      <th>sex</th>\n",
       "      <th>bmi</th>\n",
       "      <th>children</th>\n",
       "      <th>smoker</th>\n",
       "      <th>region</th>\n",
       "      <th>charges</th>\n",
       "      <th>is_southwest</th>\n",
       "      <th>is_southeast</th>\n",
       "      <th>is_northwest</th>\n",
       "      <th>is_northeast</th>\n",
       "    </tr>\n",
       "  </thead>\n",
       "  <tbody>\n",
       "    <tr>\n",
       "      <th>0</th>\n",
       "      <td>19</td>\n",
       "      <td>0</td>\n",
       "      <td>27.90</td>\n",
       "      <td>0</td>\n",
       "      <td>1</td>\n",
       "      <td>southwest</td>\n",
       "      <td>16884.92</td>\n",
       "      <td>1</td>\n",
       "      <td>0</td>\n",
       "      <td>0</td>\n",
       "      <td>0</td>\n",
       "    </tr>\n",
       "    <tr>\n",
       "      <th>1</th>\n",
       "      <td>18</td>\n",
       "      <td>1</td>\n",
       "      <td>33.77</td>\n",
       "      <td>1</td>\n",
       "      <td>0</td>\n",
       "      <td>southeast</td>\n",
       "      <td>1725.55</td>\n",
       "      <td>0</td>\n",
       "      <td>1</td>\n",
       "      <td>0</td>\n",
       "      <td>0</td>\n",
       "    </tr>\n",
       "    <tr>\n",
       "      <th>2</th>\n",
       "      <td>28</td>\n",
       "      <td>1</td>\n",
       "      <td>33.00</td>\n",
       "      <td>3</td>\n",
       "      <td>0</td>\n",
       "      <td>southeast</td>\n",
       "      <td>4449.46</td>\n",
       "      <td>0</td>\n",
       "      <td>1</td>\n",
       "      <td>0</td>\n",
       "      <td>0</td>\n",
       "    </tr>\n",
       "    <tr>\n",
       "      <th>3</th>\n",
       "      <td>33</td>\n",
       "      <td>1</td>\n",
       "      <td>22.70</td>\n",
       "      <td>0</td>\n",
       "      <td>0</td>\n",
       "      <td>northwest</td>\n",
       "      <td>21984.47</td>\n",
       "      <td>0</td>\n",
       "      <td>0</td>\n",
       "      <td>1</td>\n",
       "      <td>0</td>\n",
       "    </tr>\n",
       "    <tr>\n",
       "      <th>4</th>\n",
       "      <td>32</td>\n",
       "      <td>1</td>\n",
       "      <td>28.88</td>\n",
       "      <td>0</td>\n",
       "      <td>0</td>\n",
       "      <td>northwest</td>\n",
       "      <td>3866.86</td>\n",
       "      <td>0</td>\n",
       "      <td>0</td>\n",
       "      <td>1</td>\n",
       "      <td>0</td>\n",
       "    </tr>\n",
       "    <tr>\n",
       "      <th>...</th>\n",
       "      <td>...</td>\n",
       "      <td>...</td>\n",
       "      <td>...</td>\n",
       "      <td>...</td>\n",
       "      <td>...</td>\n",
       "      <td>...</td>\n",
       "      <td>...</td>\n",
       "      <td>...</td>\n",
       "      <td>...</td>\n",
       "      <td>...</td>\n",
       "      <td>...</td>\n",
       "    </tr>\n",
       "    <tr>\n",
       "      <th>1321</th>\n",
       "      <td>50</td>\n",
       "      <td>1</td>\n",
       "      <td>30.97</td>\n",
       "      <td>3</td>\n",
       "      <td>0</td>\n",
       "      <td>northwest</td>\n",
       "      <td>10600.55</td>\n",
       "      <td>0</td>\n",
       "      <td>0</td>\n",
       "      <td>1</td>\n",
       "      <td>0</td>\n",
       "    </tr>\n",
       "    <tr>\n",
       "      <th>1322</th>\n",
       "      <td>18</td>\n",
       "      <td>0</td>\n",
       "      <td>31.92</td>\n",
       "      <td>0</td>\n",
       "      <td>0</td>\n",
       "      <td>northeast</td>\n",
       "      <td>2205.98</td>\n",
       "      <td>0</td>\n",
       "      <td>0</td>\n",
       "      <td>0</td>\n",
       "      <td>1</td>\n",
       "    </tr>\n",
       "    <tr>\n",
       "      <th>1323</th>\n",
       "      <td>18</td>\n",
       "      <td>0</td>\n",
       "      <td>36.85</td>\n",
       "      <td>0</td>\n",
       "      <td>0</td>\n",
       "      <td>southeast</td>\n",
       "      <td>1629.83</td>\n",
       "      <td>0</td>\n",
       "      <td>1</td>\n",
       "      <td>0</td>\n",
       "      <td>0</td>\n",
       "    </tr>\n",
       "    <tr>\n",
       "      <th>1324</th>\n",
       "      <td>21</td>\n",
       "      <td>0</td>\n",
       "      <td>25.80</td>\n",
       "      <td>0</td>\n",
       "      <td>0</td>\n",
       "      <td>southwest</td>\n",
       "      <td>2007.94</td>\n",
       "      <td>1</td>\n",
       "      <td>0</td>\n",
       "      <td>0</td>\n",
       "      <td>0</td>\n",
       "    </tr>\n",
       "    <tr>\n",
       "      <th>1325</th>\n",
       "      <td>61</td>\n",
       "      <td>0</td>\n",
       "      <td>29.07</td>\n",
       "      <td>0</td>\n",
       "      <td>1</td>\n",
       "      <td>northwest</td>\n",
       "      <td>29141.36</td>\n",
       "      <td>0</td>\n",
       "      <td>0</td>\n",
       "      <td>1</td>\n",
       "      <td>0</td>\n",
       "    </tr>\n",
       "  </tbody>\n",
       "</table>\n",
       "<p>1326 rows × 11 columns</p>\n",
       "</div>"
      ],
      "text/plain": [
       "      age  sex    bmi  children  smoker     region   charges  is_southwest  \\\n",
       "0      19    0  27.90         0       1  southwest  16884.92             1   \n",
       "1      18    1  33.77         1       0  southeast   1725.55             0   \n",
       "2      28    1  33.00         3       0  southeast   4449.46             0   \n",
       "3      33    1  22.70         0       0  northwest  21984.47             0   \n",
       "4      32    1  28.88         0       0  northwest   3866.86             0   \n",
       "...   ...  ...    ...       ...     ...        ...       ...           ...   \n",
       "1321   50    1  30.97         3       0  northwest  10600.55             0   \n",
       "1322   18    0  31.92         0       0  northeast   2205.98             0   \n",
       "1323   18    0  36.85         0       0  southeast   1629.83             0   \n",
       "1324   21    0  25.80         0       0  southwest   2007.94             1   \n",
       "1325   61    0  29.07         0       1  northwest  29141.36             0   \n",
       "\n",
       "      is_southeast  is_northwest  is_northeast  \n",
       "0                0             0             0  \n",
       "1                1             0             0  \n",
       "2                1             0             0  \n",
       "3                0             1             0  \n",
       "4                0             1             0  \n",
       "...            ...           ...           ...  \n",
       "1321             0             1             0  \n",
       "1322             0             0             1  \n",
       "1323             1             0             0  \n",
       "1324             0             0             0  \n",
       "1325             0             1             0  \n",
       "\n",
       "[1326 rows x 11 columns]"
      ]
     },
     "execution_count": 44,
     "metadata": {},
     "output_type": "execute_result"
    }
   ],
   "source": [
    "# Drop dataframe index\n",
    "\n",
    "df_for_cor.drop('Unnamed: 0', inplace=True, axis=1)\n",
    "\n",
    "df_for_cor"
   ]
  },
  {
   "cell_type": "code",
   "execution_count": 45,
   "metadata": {},
   "outputs": [
    {
     "data": {
      "text/html": [
       "<div>\n",
       "<style scoped>\n",
       "    .dataframe tbody tr th:only-of-type {\n",
       "        vertical-align: middle;\n",
       "    }\n",
       "\n",
       "    .dataframe tbody tr th {\n",
       "        vertical-align: top;\n",
       "    }\n",
       "\n",
       "    .dataframe thead th {\n",
       "        text-align: right;\n",
       "    }\n",
       "</style>\n",
       "<table border=\"1\" class=\"dataframe\">\n",
       "  <thead>\n",
       "    <tr style=\"text-align: right;\">\n",
       "      <th></th>\n",
       "      <th>age</th>\n",
       "      <th>sex</th>\n",
       "      <th>bmi</th>\n",
       "      <th>children</th>\n",
       "      <th>smoker</th>\n",
       "      <th>region</th>\n",
       "      <th>charges</th>\n",
       "      <th>is_southwest</th>\n",
       "      <th>is_southeast</th>\n",
       "      <th>is_northwest</th>\n",
       "      <th>is_northeast</th>\n",
       "      <th>charges_log</th>\n",
       "      <th>age_log</th>\n",
       "      <th>children_log</th>\n",
       "    </tr>\n",
       "  </thead>\n",
       "  <tbody>\n",
       "    <tr>\n",
       "      <th>0</th>\n",
       "      <td>19</td>\n",
       "      <td>0</td>\n",
       "      <td>27.90</td>\n",
       "      <td>0</td>\n",
       "      <td>1</td>\n",
       "      <td>southwest</td>\n",
       "      <td>16884.92</td>\n",
       "      <td>1</td>\n",
       "      <td>0</td>\n",
       "      <td>0</td>\n",
       "      <td>0</td>\n",
       "      <td>9.73</td>\n",
       "      <td>3.00</td>\n",
       "      <td>0.00</td>\n",
       "    </tr>\n",
       "    <tr>\n",
       "      <th>1</th>\n",
       "      <td>18</td>\n",
       "      <td>1</td>\n",
       "      <td>33.77</td>\n",
       "      <td>1</td>\n",
       "      <td>0</td>\n",
       "      <td>southeast</td>\n",
       "      <td>1725.55</td>\n",
       "      <td>0</td>\n",
       "      <td>1</td>\n",
       "      <td>0</td>\n",
       "      <td>0</td>\n",
       "      <td>7.45</td>\n",
       "      <td>2.94</td>\n",
       "      <td>0.69</td>\n",
       "    </tr>\n",
       "    <tr>\n",
       "      <th>2</th>\n",
       "      <td>28</td>\n",
       "      <td>1</td>\n",
       "      <td>33.00</td>\n",
       "      <td>3</td>\n",
       "      <td>0</td>\n",
       "      <td>southeast</td>\n",
       "      <td>4449.46</td>\n",
       "      <td>0</td>\n",
       "      <td>1</td>\n",
       "      <td>0</td>\n",
       "      <td>0</td>\n",
       "      <td>8.40</td>\n",
       "      <td>3.37</td>\n",
       "      <td>1.39</td>\n",
       "    </tr>\n",
       "    <tr>\n",
       "      <th>3</th>\n",
       "      <td>33</td>\n",
       "      <td>1</td>\n",
       "      <td>22.70</td>\n",
       "      <td>0</td>\n",
       "      <td>0</td>\n",
       "      <td>northwest</td>\n",
       "      <td>21984.47</td>\n",
       "      <td>0</td>\n",
       "      <td>0</td>\n",
       "      <td>1</td>\n",
       "      <td>0</td>\n",
       "      <td>10.00</td>\n",
       "      <td>3.53</td>\n",
       "      <td>0.00</td>\n",
       "    </tr>\n",
       "    <tr>\n",
       "      <th>4</th>\n",
       "      <td>32</td>\n",
       "      <td>1</td>\n",
       "      <td>28.88</td>\n",
       "      <td>0</td>\n",
       "      <td>0</td>\n",
       "      <td>northwest</td>\n",
       "      <td>3866.86</td>\n",
       "      <td>0</td>\n",
       "      <td>0</td>\n",
       "      <td>1</td>\n",
       "      <td>0</td>\n",
       "      <td>8.26</td>\n",
       "      <td>3.50</td>\n",
       "      <td>0.00</td>\n",
       "    </tr>\n",
       "    <tr>\n",
       "      <th>...</th>\n",
       "      <td>...</td>\n",
       "      <td>...</td>\n",
       "      <td>...</td>\n",
       "      <td>...</td>\n",
       "      <td>...</td>\n",
       "      <td>...</td>\n",
       "      <td>...</td>\n",
       "      <td>...</td>\n",
       "      <td>...</td>\n",
       "      <td>...</td>\n",
       "      <td>...</td>\n",
       "      <td>...</td>\n",
       "      <td>...</td>\n",
       "      <td>...</td>\n",
       "    </tr>\n",
       "    <tr>\n",
       "      <th>1321</th>\n",
       "      <td>50</td>\n",
       "      <td>1</td>\n",
       "      <td>30.97</td>\n",
       "      <td>3</td>\n",
       "      <td>0</td>\n",
       "      <td>northwest</td>\n",
       "      <td>10600.55</td>\n",
       "      <td>0</td>\n",
       "      <td>0</td>\n",
       "      <td>1</td>\n",
       "      <td>0</td>\n",
       "      <td>9.27</td>\n",
       "      <td>3.93</td>\n",
       "      <td>1.39</td>\n",
       "    </tr>\n",
       "    <tr>\n",
       "      <th>1322</th>\n",
       "      <td>18</td>\n",
       "      <td>0</td>\n",
       "      <td>31.92</td>\n",
       "      <td>0</td>\n",
       "      <td>0</td>\n",
       "      <td>northeast</td>\n",
       "      <td>2205.98</td>\n",
       "      <td>0</td>\n",
       "      <td>0</td>\n",
       "      <td>0</td>\n",
       "      <td>1</td>\n",
       "      <td>7.70</td>\n",
       "      <td>2.94</td>\n",
       "      <td>0.00</td>\n",
       "    </tr>\n",
       "    <tr>\n",
       "      <th>1323</th>\n",
       "      <td>18</td>\n",
       "      <td>0</td>\n",
       "      <td>36.85</td>\n",
       "      <td>0</td>\n",
       "      <td>0</td>\n",
       "      <td>southeast</td>\n",
       "      <td>1629.83</td>\n",
       "      <td>0</td>\n",
       "      <td>1</td>\n",
       "      <td>0</td>\n",
       "      <td>0</td>\n",
       "      <td>7.40</td>\n",
       "      <td>2.94</td>\n",
       "      <td>0.00</td>\n",
       "    </tr>\n",
       "    <tr>\n",
       "      <th>1324</th>\n",
       "      <td>21</td>\n",
       "      <td>0</td>\n",
       "      <td>25.80</td>\n",
       "      <td>0</td>\n",
       "      <td>0</td>\n",
       "      <td>southwest</td>\n",
       "      <td>2007.94</td>\n",
       "      <td>1</td>\n",
       "      <td>0</td>\n",
       "      <td>0</td>\n",
       "      <td>0</td>\n",
       "      <td>7.61</td>\n",
       "      <td>3.09</td>\n",
       "      <td>0.00</td>\n",
       "    </tr>\n",
       "    <tr>\n",
       "      <th>1325</th>\n",
       "      <td>61</td>\n",
       "      <td>0</td>\n",
       "      <td>29.07</td>\n",
       "      <td>0</td>\n",
       "      <td>1</td>\n",
       "      <td>northwest</td>\n",
       "      <td>29141.36</td>\n",
       "      <td>0</td>\n",
       "      <td>0</td>\n",
       "      <td>1</td>\n",
       "      <td>0</td>\n",
       "      <td>10.28</td>\n",
       "      <td>4.13</td>\n",
       "      <td>0.00</td>\n",
       "    </tr>\n",
       "  </tbody>\n",
       "</table>\n",
       "<p>1326 rows × 14 columns</p>\n",
       "</div>"
      ],
      "text/plain": [
       "      age  sex    bmi  children  smoker     region   charges  is_southwest  \\\n",
       "0      19    0  27.90         0       1  southwest  16884.92             1   \n",
       "1      18    1  33.77         1       0  southeast   1725.55             0   \n",
       "2      28    1  33.00         3       0  southeast   4449.46             0   \n",
       "3      33    1  22.70         0       0  northwest  21984.47             0   \n",
       "4      32    1  28.88         0       0  northwest   3866.86             0   \n",
       "...   ...  ...    ...       ...     ...        ...       ...           ...   \n",
       "1321   50    1  30.97         3       0  northwest  10600.55             0   \n",
       "1322   18    0  31.92         0       0  northeast   2205.98             0   \n",
       "1323   18    0  36.85         0       0  southeast   1629.83             0   \n",
       "1324   21    0  25.80         0       0  southwest   2007.94             1   \n",
       "1325   61    0  29.07         0       1  northwest  29141.36             0   \n",
       "\n",
       "      is_southeast  is_northwest  is_northeast  charges_log  age_log  \\\n",
       "0                0             0             0         9.73     3.00   \n",
       "1                1             0             0         7.45     2.94   \n",
       "2                1             0             0         8.40     3.37   \n",
       "3                0             1             0        10.00     3.53   \n",
       "4                0             1             0         8.26     3.50   \n",
       "...            ...           ...           ...          ...      ...   \n",
       "1321             0             1             0         9.27     3.93   \n",
       "1322             0             0             1         7.70     2.94   \n",
       "1323             1             0             0         7.40     2.94   \n",
       "1324             0             0             0         7.61     3.09   \n",
       "1325             0             1             0        10.28     4.13   \n",
       "\n",
       "      children_log  \n",
       "0             0.00  \n",
       "1             0.69  \n",
       "2             1.39  \n",
       "3             0.00  \n",
       "4             0.00  \n",
       "...            ...  \n",
       "1321          1.39  \n",
       "1322          0.00  \n",
       "1323          0.00  \n",
       "1324          0.00  \n",
       "1325          0.00  \n",
       "\n",
       "[1326 rows x 14 columns]"
      ]
     },
     "execution_count": 45,
     "metadata": {},
     "output_type": "execute_result"
    }
   ],
   "source": [
    "# Log-transform charges and age data (positively-skewed)\n",
    "\n",
    "df_for_cor['charges_log'] = df_for_cor['charges'].apply(lambda x: round(np.log(x + 1), 2))\n",
    "df_for_cor['age_log'] = df_for_cor['age'].apply(lambda x: round(np.log(x + 1), 2))\n",
    "df_for_cor['children_log'] = df_for_cor['children'].apply(lambda x: round(np.log(x + 1), 2))\n",
    "\n",
    "df_for_cor"
   ]
  },
  {
   "cell_type": "code",
   "execution_count": 46,
   "metadata": {},
   "outputs": [
    {
     "data": {
      "text/html": [
       "<div>\n",
       "<style scoped>\n",
       "    .dataframe tbody tr th:only-of-type {\n",
       "        vertical-align: middle;\n",
       "    }\n",
       "\n",
       "    .dataframe tbody tr th {\n",
       "        vertical-align: top;\n",
       "    }\n",
       "\n",
       "    .dataframe thead th {\n",
       "        text-align: right;\n",
       "    }\n",
       "</style>\n",
       "<table border=\"1\" class=\"dataframe\">\n",
       "  <thead>\n",
       "    <tr style=\"text-align: right;\">\n",
       "      <th></th>\n",
       "      <th>age</th>\n",
       "      <th>sex</th>\n",
       "      <th>bmi</th>\n",
       "      <th>children</th>\n",
       "      <th>smoker</th>\n",
       "      <th>region</th>\n",
       "      <th>charges</th>\n",
       "      <th>is_southwest</th>\n",
       "      <th>is_southeast</th>\n",
       "      <th>is_northwest</th>\n",
       "      <th>is_northeast</th>\n",
       "      <th>charges_log</th>\n",
       "      <th>age_log</th>\n",
       "      <th>children_log</th>\n",
       "      <th>bmi_std</th>\n",
       "    </tr>\n",
       "  </thead>\n",
       "  <tbody>\n",
       "    <tr>\n",
       "      <th>0</th>\n",
       "      <td>19</td>\n",
       "      <td>0</td>\n",
       "      <td>27.90</td>\n",
       "      <td>0</td>\n",
       "      <td>1</td>\n",
       "      <td>southwest</td>\n",
       "      <td>16884.92</td>\n",
       "      <td>1</td>\n",
       "      <td>0</td>\n",
       "      <td>0</td>\n",
       "      <td>0</td>\n",
       "      <td>9.73</td>\n",
       "      <td>3.00</td>\n",
       "      <td>0.00</td>\n",
       "      <td>-0.444921</td>\n",
       "    </tr>\n",
       "    <tr>\n",
       "      <th>1</th>\n",
       "      <td>18</td>\n",
       "      <td>1</td>\n",
       "      <td>33.77</td>\n",
       "      <td>1</td>\n",
       "      <td>0</td>\n",
       "      <td>southeast</td>\n",
       "      <td>1725.55</td>\n",
       "      <td>0</td>\n",
       "      <td>1</td>\n",
       "      <td>0</td>\n",
       "      <td>0</td>\n",
       "      <td>7.45</td>\n",
       "      <td>2.94</td>\n",
       "      <td>0.69</td>\n",
       "      <td>0.537788</td>\n",
       "    </tr>\n",
       "    <tr>\n",
       "      <th>2</th>\n",
       "      <td>28</td>\n",
       "      <td>1</td>\n",
       "      <td>33.00</td>\n",
       "      <td>3</td>\n",
       "      <td>0</td>\n",
       "      <td>southeast</td>\n",
       "      <td>4449.46</td>\n",
       "      <td>0</td>\n",
       "      <td>1</td>\n",
       "      <td>0</td>\n",
       "      <td>0</td>\n",
       "      <td>8.40</td>\n",
       "      <td>3.37</td>\n",
       "      <td>1.39</td>\n",
       "      <td>0.408881</td>\n",
       "    </tr>\n",
       "    <tr>\n",
       "      <th>3</th>\n",
       "      <td>33</td>\n",
       "      <td>1</td>\n",
       "      <td>22.70</td>\n",
       "      <td>0</td>\n",
       "      <td>0</td>\n",
       "      <td>northwest</td>\n",
       "      <td>21984.47</td>\n",
       "      <td>0</td>\n",
       "      <td>0</td>\n",
       "      <td>1</td>\n",
       "      <td>0</td>\n",
       "      <td>10.00</td>\n",
       "      <td>3.53</td>\n",
       "      <td>0.00</td>\n",
       "      <td>-1.315465</td>\n",
       "    </tr>\n",
       "    <tr>\n",
       "      <th>4</th>\n",
       "      <td>32</td>\n",
       "      <td>1</td>\n",
       "      <td>28.88</td>\n",
       "      <td>0</td>\n",
       "      <td>0</td>\n",
       "      <td>northwest</td>\n",
       "      <td>3866.86</td>\n",
       "      <td>0</td>\n",
       "      <td>0</td>\n",
       "      <td>1</td>\n",
       "      <td>0</td>\n",
       "      <td>8.26</td>\n",
       "      <td>3.50</td>\n",
       "      <td>0.00</td>\n",
       "      <td>-0.280857</td>\n",
       "    </tr>\n",
       "    <tr>\n",
       "      <th>...</th>\n",
       "      <td>...</td>\n",
       "      <td>...</td>\n",
       "      <td>...</td>\n",
       "      <td>...</td>\n",
       "      <td>...</td>\n",
       "      <td>...</td>\n",
       "      <td>...</td>\n",
       "      <td>...</td>\n",
       "      <td>...</td>\n",
       "      <td>...</td>\n",
       "      <td>...</td>\n",
       "      <td>...</td>\n",
       "      <td>...</td>\n",
       "      <td>...</td>\n",
       "      <td>...</td>\n",
       "    </tr>\n",
       "    <tr>\n",
       "      <th>1321</th>\n",
       "      <td>50</td>\n",
       "      <td>1</td>\n",
       "      <td>30.97</td>\n",
       "      <td>3</td>\n",
       "      <td>0</td>\n",
       "      <td>northwest</td>\n",
       "      <td>10600.55</td>\n",
       "      <td>0</td>\n",
       "      <td>0</td>\n",
       "      <td>1</td>\n",
       "      <td>0</td>\n",
       "      <td>9.27</td>\n",
       "      <td>3.93</td>\n",
       "      <td>1.39</td>\n",
       "      <td>0.069034</td>\n",
       "    </tr>\n",
       "    <tr>\n",
       "      <th>1322</th>\n",
       "      <td>18</td>\n",
       "      <td>0</td>\n",
       "      <td>31.92</td>\n",
       "      <td>0</td>\n",
       "      <td>0</td>\n",
       "      <td>northeast</td>\n",
       "      <td>2205.98</td>\n",
       "      <td>0</td>\n",
       "      <td>0</td>\n",
       "      <td>0</td>\n",
       "      <td>1</td>\n",
       "      <td>7.70</td>\n",
       "      <td>2.94</td>\n",
       "      <td>0.00</td>\n",
       "      <td>0.228076</td>\n",
       "    </tr>\n",
       "    <tr>\n",
       "      <th>1323</th>\n",
       "      <td>18</td>\n",
       "      <td>0</td>\n",
       "      <td>36.85</td>\n",
       "      <td>0</td>\n",
       "      <td>0</td>\n",
       "      <td>southeast</td>\n",
       "      <td>1629.83</td>\n",
       "      <td>0</td>\n",
       "      <td>1</td>\n",
       "      <td>0</td>\n",
       "      <td>0</td>\n",
       "      <td>7.40</td>\n",
       "      <td>2.94</td>\n",
       "      <td>0.00</td>\n",
       "      <td>1.053418</td>\n",
       "    </tr>\n",
       "    <tr>\n",
       "      <th>1324</th>\n",
       "      <td>21</td>\n",
       "      <td>0</td>\n",
       "      <td>25.80</td>\n",
       "      <td>0</td>\n",
       "      <td>0</td>\n",
       "      <td>southwest</td>\n",
       "      <td>2007.94</td>\n",
       "      <td>1</td>\n",
       "      <td>0</td>\n",
       "      <td>0</td>\n",
       "      <td>0</td>\n",
       "      <td>7.61</td>\n",
       "      <td>3.09</td>\n",
       "      <td>0.00</td>\n",
       "      <td>-0.796487</td>\n",
       "    </tr>\n",
       "    <tr>\n",
       "      <th>1325</th>\n",
       "      <td>61</td>\n",
       "      <td>0</td>\n",
       "      <td>29.07</td>\n",
       "      <td>0</td>\n",
       "      <td>1</td>\n",
       "      <td>northwest</td>\n",
       "      <td>29141.36</td>\n",
       "      <td>0</td>\n",
       "      <td>0</td>\n",
       "      <td>1</td>\n",
       "      <td>0</td>\n",
       "      <td>10.28</td>\n",
       "      <td>4.13</td>\n",
       "      <td>0.00</td>\n",
       "      <td>-0.249049</td>\n",
       "    </tr>\n",
       "  </tbody>\n",
       "</table>\n",
       "<p>1326 rows × 15 columns</p>\n",
       "</div>"
      ],
      "text/plain": [
       "      age  sex    bmi  children  smoker     region   charges  is_southwest  \\\n",
       "0      19    0  27.90         0       1  southwest  16884.92             1   \n",
       "1      18    1  33.77         1       0  southeast   1725.55             0   \n",
       "2      28    1  33.00         3       0  southeast   4449.46             0   \n",
       "3      33    1  22.70         0       0  northwest  21984.47             0   \n",
       "4      32    1  28.88         0       0  northwest   3866.86             0   \n",
       "...   ...  ...    ...       ...     ...        ...       ...           ...   \n",
       "1321   50    1  30.97         3       0  northwest  10600.55             0   \n",
       "1322   18    0  31.92         0       0  northeast   2205.98             0   \n",
       "1323   18    0  36.85         0       0  southeast   1629.83             0   \n",
       "1324   21    0  25.80         0       0  southwest   2007.94             1   \n",
       "1325   61    0  29.07         0       1  northwest  29141.36             0   \n",
       "\n",
       "      is_southeast  is_northwest  is_northeast  charges_log  age_log  \\\n",
       "0                0             0             0         9.73     3.00   \n",
       "1                1             0             0         7.45     2.94   \n",
       "2                1             0             0         8.40     3.37   \n",
       "3                0             1             0        10.00     3.53   \n",
       "4                0             1             0         8.26     3.50   \n",
       "...            ...           ...           ...          ...      ...   \n",
       "1321             0             1             0         9.27     3.93   \n",
       "1322             0             0             1         7.70     2.94   \n",
       "1323             1             0             0         7.40     2.94   \n",
       "1324             0             0             0         7.61     3.09   \n",
       "1325             0             1             0        10.28     4.13   \n",
       "\n",
       "      children_log   bmi_std  \n",
       "0             0.00 -0.444921  \n",
       "1             0.69  0.537788  \n",
       "2             1.39  0.408881  \n",
       "3             0.00 -1.315465  \n",
       "4             0.00 -0.280857  \n",
       "...            ...       ...  \n",
       "1321          1.39  0.069034  \n",
       "1322          0.00  0.228076  \n",
       "1323          0.00  1.053418  \n",
       "1324          0.00 -0.796487  \n",
       "1325          0.00 -0.249049  \n",
       "\n",
       "[1326 rows x 15 columns]"
      ]
     },
     "execution_count": 46,
     "metadata": {},
     "output_type": "execute_result"
    }
   ],
   "source": [
    "# Standardize BMI data\n",
    "\n",
    "df_for_cor['bmi_std'] = (df_for_cor['bmi'] - df_for_cor['bmi'].mean())/ df_for_cor['bmi'].std()"
   ]
  },
  {
   "cell_type": "code",
   "execution_count": 47,
   "metadata": {},
   "outputs": [
    {
     "data": {
      "text/plain": [
       "Text(9.444444444444445, 0.5, 'Frequency')"
      ]
     },
     "execution_count": 47,
     "metadata": {},
     "output_type": "execute_result"
    },
    {
     "data": {
      "image/png": "[encoded data removed]",
      "text/plain": [
       "<Figure size 500x500 with 1 Axes>"
      ]
     },
     "metadata": {},
     "output_type": "display_data"
    }
   ],
   "source": [
    "# Review distribution of log_transformed charges data\n",
    "\n",
    "sns.displot(df_for_cor, x = 'charges_log', kind='kde')\n",
    "plt.title(\"Distribution of the insured by charges\", fontsize= 13, weight = \"bold\")\n",
    "plt.xlabel(\"Log_charges\", weight = 10)\n",
    "plt.ylabel(\"Frequency\", weight = 10)"
   ]
  },
  {
   "cell_type": "code",
   "execution_count": 48,
   "metadata": {},
   "outputs": [
    {
     "data": {
      "text/plain": [
       "Text(9.444444444444445, 0.5, 'Frequency')"
      ]
     },
     "execution_count": 48,
     "metadata": {},
     "output_type": "execute_result"
    },
    {
     "data": {
      "image/png": "[encoded data removed]",
      "text/plain": [
       "<Figure size 500x500 with 1 Axes>"
      ]
     },
     "metadata": {},
     "output_type": "display_data"
    }
   ],
   "source": [
    "# Review distribution of log_transformed age data\n",
    "\n",
    "sns.displot(df_for_cor, x = 'age_log', kind='kde')\n",
    "plt.title(\"Distribution of the insured by age\", fontsize= 13, weight = \"bold\")\n",
    "plt.xlabel(\"Log_age\", weight = 10)\n",
    "plt.ylabel(\"Frequency\", weight = 10)"
   ]
  },
  {
   "cell_type": "code",
   "execution_count": 52,
   "metadata": {},
   "outputs": [
    {
     "data": {
      "text/plain": [
       "Text(9.444444444444445, 0.5, 'Frequency')"
      ]
     },
     "execution_count": 52,
     "metadata": {},
     "output_type": "execute_result"
    },
    {
     "data": {
      "image/png": "[encoded data removed]",
      "text/plain": [
       "<Figure size 500x500 with 1 Axes>"
      ]
     },
     "metadata": {},
     "output_type": "display_data"
    }
   ],
   "source": [
    "# Review distribution of log_transformed children data\n",
    "\n",
    "sns.displot(df_for_cor, x = 'children_log', kind='kde')\n",
    "plt.title(\"Distribution of the insured by number of children\", fontsize= 13, weight = \"bold\")\n",
    "plt.xlabel(\"Log_number_of_children\", weight = 10)\n",
    "plt.ylabel(\"Frequency\", weight = 10)"
   ]
  },
  {
   "cell_type": "code",
   "execution_count": 54,
   "metadata": {},
   "outputs": [
    {
     "data": {
      "text/plain": [
       "Text(0.6944444444444446, 0.5, 'Frequency')"
      ]
     },
     "execution_count": 54,
     "metadata": {},
     "output_type": "execute_result"
    },
    {
     "data": {
      "image/png": "[encoded data removed]",
      "text/plain": [
       "<Figure size 500x500 with 1 Axes>"
      ]
     },
     "metadata": {},
     "output_type": "display_data"
    }
   ],
   "source": [
    "# Review distribution of log_transformed children data\n",
    "\n",
    "sns.displot(df_for_cor, x = 'bmi_std', kind='kde')\n",
    "plt.title(\"Distribution of the insured by BMI\", fontsize= 13, weight = \"bold\")\n",
    "plt.xlabel(\"Log_number_of_children\", weight = 10)\n",
    "plt.ylabel(\"Frequency\", weight = 10)"
   ]
  },
  {
   "cell_type": "code",
   "execution_count": 60,
   "metadata": {},
   "outputs": [
    {
     "data": {
      "text/html": [
       "<div>\n",
       "<style scoped>\n",
       "    .dataframe tbody tr th:only-of-type {\n",
       "        vertical-align: middle;\n",
       "    }\n",
       "\n",
       "    .dataframe tbody tr th {\n",
       "        vertical-align: top;\n",
       "    }\n",
       "\n",
       "    .dataframe thead th {\n",
       "        text-align: right;\n",
       "    }\n",
       "</style>\n",
       "<table border=\"1\" class=\"dataframe\">\n",
       "  <thead>\n",
       "    <tr style=\"text-align: right;\">\n",
       "      <th></th>\n",
       "      <th>age</th>\n",
       "      <th>sex</th>\n",
       "      <th>bmi</th>\n",
       "      <th>children</th>\n",
       "      <th>smoker</th>\n",
       "      <th>region</th>\n",
       "      <th>charges</th>\n",
       "      <th>is_southwest</th>\n",
       "      <th>is_southeast</th>\n",
       "      <th>is_northwest</th>\n",
       "      <th>is_northeast</th>\n",
       "      <th>charges_log</th>\n",
       "      <th>age_log</th>\n",
       "      <th>children_log</th>\n",
       "      <th>bmi_std</th>\n",
       "    </tr>\n",
       "  </thead>\n",
       "  <tbody>\n",
       "    <tr>\n",
       "      <th>0</th>\n",
       "      <td>19</td>\n",
       "      <td>0</td>\n",
       "      <td>27.90</td>\n",
       "      <td>0</td>\n",
       "      <td>1</td>\n",
       "      <td>southwest</td>\n",
       "      <td>16884.92</td>\n",
       "      <td>1</td>\n",
       "      <td>0</td>\n",
       "      <td>0</td>\n",
       "      <td>0</td>\n",
       "      <td>9.73</td>\n",
       "      <td>3.00</td>\n",
       "      <td>0.00</td>\n",
       "      <td>-0.444921</td>\n",
       "    </tr>\n",
       "    <tr>\n",
       "      <th>1</th>\n",
       "      <td>18</td>\n",
       "      <td>1</td>\n",
       "      <td>33.77</td>\n",
       "      <td>1</td>\n",
       "      <td>0</td>\n",
       "      <td>southeast</td>\n",
       "      <td>1725.55</td>\n",
       "      <td>0</td>\n",
       "      <td>1</td>\n",
       "      <td>0</td>\n",
       "      <td>0</td>\n",
       "      <td>7.45</td>\n",
       "      <td>2.94</td>\n",
       "      <td>0.69</td>\n",
       "      <td>0.537788</td>\n",
       "    </tr>\n",
       "    <tr>\n",
       "      <th>2</th>\n",
       "      <td>28</td>\n",
       "      <td>1</td>\n",
       "      <td>33.00</td>\n",
       "      <td>3</td>\n",
       "      <td>0</td>\n",
       "      <td>southeast</td>\n",
       "      <td>4449.46</td>\n",
       "      <td>0</td>\n",
       "      <td>1</td>\n",
       "      <td>0</td>\n",
       "      <td>0</td>\n",
       "      <td>8.40</td>\n",
       "      <td>3.37</td>\n",
       "      <td>1.39</td>\n",
       "      <td>0.408881</td>\n",
       "    </tr>\n",
       "    <tr>\n",
       "      <th>3</th>\n",
       "      <td>33</td>\n",
       "      <td>1</td>\n",
       "      <td>22.70</td>\n",
       "      <td>0</td>\n",
       "      <td>0</td>\n",
       "      <td>northwest</td>\n",
       "      <td>21984.47</td>\n",
       "      <td>0</td>\n",
       "      <td>0</td>\n",
       "      <td>1</td>\n",
       "      <td>0</td>\n",
       "      <td>10.00</td>\n",
       "      <td>3.53</td>\n",
       "      <td>0.00</td>\n",
       "      <td>-1.315465</td>\n",
       "    </tr>\n",
       "    <tr>\n",
       "      <th>4</th>\n",
       "      <td>32</td>\n",
       "      <td>1</td>\n",
       "      <td>28.88</td>\n",
       "      <td>0</td>\n",
       "      <td>0</td>\n",
       "      <td>northwest</td>\n",
       "      <td>3866.86</td>\n",
       "      <td>0</td>\n",
       "      <td>0</td>\n",
       "      <td>1</td>\n",
       "      <td>0</td>\n",
       "      <td>8.26</td>\n",
       "      <td>3.50</td>\n",
       "      <td>0.00</td>\n",
       "      <td>-0.280857</td>\n",
       "    </tr>\n",
       "    <tr>\n",
       "      <th>...</th>\n",
       "      <td>...</td>\n",
       "      <td>...</td>\n",
       "      <td>...</td>\n",
       "      <td>...</td>\n",
       "      <td>...</td>\n",
       "      <td>...</td>\n",
       "      <td>...</td>\n",
       "      <td>...</td>\n",
       "      <td>...</td>\n",
       "      <td>...</td>\n",
       "      <td>...</td>\n",
       "      <td>...</td>\n",
       "      <td>...</td>\n",
       "      <td>...</td>\n",
       "      <td>...</td>\n",
       "    </tr>\n",
       "    <tr>\n",
       "      <th>1321</th>\n",
       "      <td>50</td>\n",
       "      <td>1</td>\n",
       "      <td>30.97</td>\n",
       "      <td>3</td>\n",
       "      <td>0</td>\n",
       "      <td>northwest</td>\n",
       "      <td>10600.55</td>\n",
       "      <td>0</td>\n",
       "      <td>0</td>\n",
       "      <td>1</td>\n",
       "      <td>0</td>\n",
       "      <td>9.27</td>\n",
       "      <td>3.93</td>\n",
       "      <td>1.39</td>\n",
       "      <td>0.069034</td>\n",
       "    </tr>\n",
       "    <tr>\n",
       "      <th>1322</th>\n",
       "      <td>18</td>\n",
       "      <td>0</td>\n",
       "      <td>31.92</td>\n",
       "      <td>0</td>\n",
       "      <td>0</td>\n",
       "      <td>northeast</td>\n",
       "      <td>2205.98</td>\n",
       "      <td>0</td>\n",
       "      <td>0</td>\n",
       "      <td>0</td>\n",
       "      <td>1</td>\n",
       "      <td>7.70</td>\n",
       "      <td>2.94</td>\n",
       "      <td>0.00</td>\n",
       "      <td>0.228076</td>\n",
       "    </tr>\n",
       "    <tr>\n",
       "      <th>1323</th>\n",
       "      <td>18</td>\n",
       "      <td>0</td>\n",
       "      <td>36.85</td>\n",
       "      <td>0</td>\n",
       "      <td>0</td>\n",
       "      <td>southeast</td>\n",
       "      <td>1629.83</td>\n",
       "      <td>0</td>\n",
       "      <td>1</td>\n",
       "      <td>0</td>\n",
       "      <td>0</td>\n",
       "      <td>7.40</td>\n",
       "      <td>2.94</td>\n",
       "      <td>0.00</td>\n",
       "      <td>1.053418</td>\n",
       "    </tr>\n",
       "    <tr>\n",
       "      <th>1324</th>\n",
       "      <td>21</td>\n",
       "      <td>0</td>\n",
       "      <td>25.80</td>\n",
       "      <td>0</td>\n",
       "      <td>0</td>\n",
       "      <td>southwest</td>\n",
       "      <td>2007.94</td>\n",
       "      <td>1</td>\n",
       "      <td>0</td>\n",
       "      <td>0</td>\n",
       "      <td>0</td>\n",
       "      <td>7.61</td>\n",
       "      <td>3.09</td>\n",
       "      <td>0.00</td>\n",
       "      <td>-0.796487</td>\n",
       "    </tr>\n",
       "    <tr>\n",
       "      <th>1325</th>\n",
       "      <td>61</td>\n",
       "      <td>0</td>\n",
       "      <td>29.07</td>\n",
       "      <td>0</td>\n",
       "      <td>1</td>\n",
       "      <td>northwest</td>\n",
       "      <td>29141.36</td>\n",
       "      <td>0</td>\n",
       "      <td>0</td>\n",
       "      <td>1</td>\n",
       "      <td>0</td>\n",
       "      <td>10.28</td>\n",
       "      <td>4.13</td>\n",
       "      <td>0.00</td>\n",
       "      <td>-0.249049</td>\n",
       "    </tr>\n",
       "  </tbody>\n",
       "</table>\n",
       "<p>1326 rows × 15 columns</p>\n",
       "</div>"
      ],
      "text/plain": [
       "      age  sex    bmi  children  smoker     region   charges  is_southwest  \\\n",
       "0      19    0  27.90         0       1  southwest  16884.92             1   \n",
       "1      18    1  33.77         1       0  southeast   1725.55             0   \n",
       "2      28    1  33.00         3       0  southeast   4449.46             0   \n",
       "3      33    1  22.70         0       0  northwest  21984.47             0   \n",
       "4      32    1  28.88         0       0  northwest   3866.86             0   \n",
       "...   ...  ...    ...       ...     ...        ...       ...           ...   \n",
       "1321   50    1  30.97         3       0  northwest  10600.55             0   \n",
       "1322   18    0  31.92         0       0  northeast   2205.98             0   \n",
       "1323   18    0  36.85         0       0  southeast   1629.83             0   \n",
       "1324   21    0  25.80         0       0  southwest   2007.94             1   \n",
       "1325   61    0  29.07         0       1  northwest  29141.36             0   \n",
       "\n",
       "      is_southeast  is_northwest  is_northeast  charges_log  age_log  \\\n",
       "0                0             0             0         9.73     3.00   \n",
       "1                1             0             0         7.45     2.94   \n",
       "2                1             0             0         8.40     3.37   \n",
       "3                0             1             0        10.00     3.53   \n",
       "4                0             1             0         8.26     3.50   \n",
       "...            ...           ...           ...          ...      ...   \n",
       "1321             0             1             0         9.27     3.93   \n",
       "1322             0             0             1         7.70     2.94   \n",
       "1323             1             0             0         7.40     2.94   \n",
       "1324             0             0             0         7.61     3.09   \n",
       "1325             0             1             0        10.28     4.13   \n",
       "\n",
       "      children_log   bmi_std  \n",
       "0             0.00 -0.444921  \n",
       "1             0.69  0.537788  \n",
       "2             1.39  0.408881  \n",
       "3             0.00 -1.315465  \n",
       "4             0.00 -0.280857  \n",
       "...            ...       ...  \n",
       "1321          1.39  0.069034  \n",
       "1322          0.00  0.228076  \n",
       "1323          0.00  1.053418  \n",
       "1324          0.00 -0.796487  \n",
       "1325          0.00 -0.249049  \n",
       "\n",
       "[1326 rows x 15 columns]"
      ]
     },
     "execution_count": 60,
     "metadata": {},
     "output_type": "execute_result"
    }
   ],
   "source": [
    "df_for_cor"
   ]
  },
  {
   "cell_type": "code",
   "execution_count": null,
   "metadata": {},
   "outputs": [],
   "source": [
    "# Assuming df contains both numerical and binary categorical data\n",
    "numerical_columns = ['bmi_std', 'age_log', 'children_log', 'charges_log']\n",
    "binary_columns = ['sex', 'smoker', 'is_southwest', 'is_southeast', 'is_northwest', 'is_northeast']\n",
    "\n",
    "# Compute Pearson correlations for numerical data\n",
    "pearson_corr = df_for_cor[numerical_columns].corr()\n",
    "\n",
    "# Compute Point Biserial correlations for binary vs numerical\n",
    "from scipy.stats import pointbiserialr\n",
    "\n",
    "biserial_corr = pd.DataFrame(\n",
    "    [[pointbiserialr(df_for_cor[cat], df_for_cor[num])[0] for num in numerical_columns] for cat in binary_columns],\n",
    "    index=binary_columns, columns=numerical_columns\n",
    ")\n",
    "\n",
    "# Transpose biserial_corr to append correctly\n",
    "biserial_corr_t = biserial_corr.T\n",
    "\n",
    "# Combine numerical vs numerical and binary vs numerical correlations\n",
    "combined_corr = pd.concat([pearson_corr, biserial_corr_t], axis=1)\n",
    "combined_corr = pd.concat([combined_corr, biserial_corr], axis=0)\n",
    "\n",
    "# Fill diagonal with 1.0 (self-correlation)\n",
    "for col in combined_corr.columns:\n",
    "    if col in combined_corr.index:\n",
    "        combined_corr.loc[col, col] = 1.0\n",
    "\n",
    "# Combine numerical vs numerical and binary vs numerical correlations\n",
    "#combined_corr = pd.concat([pearson_corr, biserial_corr_t], axis=1)\n",
    "combined_corr = pd.concat([combined_corr, biserial_corr], axis=0)\n"
   ]
  },
  {
   "cell_type": "code",
   "execution_count": 88,
   "metadata": {},
   "outputs": [],
   "source": [
    "combined_corr_2 = combined_corr.copy()"
   ]
  },
  {
   "cell_type": "code",
   "execution_count": null,
   "metadata": {},
   "outputs": [],
   "source": [
    "# Generate\n",
    "\n",
    "binary_corr_matrix = df_for_cor[binary_columns].corr(method='pearson')\n",
    "\n",
    "binary_corr_matrix_df = pd.DataFrame(binary_corr_matrix)\n",
    "\n",
    "binary_corr_matrix_df"
   ]
  },
  {
   "cell_type": "code",
   "execution_count": 99,
   "metadata": {},
   "outputs": [
    {
     "data": {
      "text/html": [
       "<div>\n",
       "<style scoped>\n",
       "    .dataframe tbody tr th:only-of-type {\n",
       "        vertical-align: middle;\n",
       "    }\n",
       "\n",
       "    .dataframe tbody tr th {\n",
       "        vertical-align: top;\n",
       "    }\n",
       "\n",
       "    .dataframe thead th {\n",
       "        text-align: right;\n",
       "    }\n",
       "</style>\n",
       "<table border=\"1\" class=\"dataframe\">\n",
       "  <thead>\n",
       "    <tr style=\"text-align: right;\">\n",
       "      <th></th>\n",
       "      <th>bmi_std</th>\n",
       "      <th>age_log</th>\n",
       "      <th>children_log</th>\n",
       "      <th>charges_log</th>\n",
       "      <th>sex</th>\n",
       "      <th>smoker</th>\n",
       "      <th>is_southwest</th>\n",
       "      <th>is_southeast</th>\n",
       "      <th>is_northwest</th>\n",
       "      <th>is_northeast</th>\n",
       "      <th>sex</th>\n",
       "      <th>smoker</th>\n",
       "      <th>is_southwest</th>\n",
       "      <th>is_southeast</th>\n",
       "      <th>is_northwest</th>\n",
       "      <th>is_northeast</th>\n",
       "    </tr>\n",
       "  </thead>\n",
       "  <tbody>\n",
       "    <tr>\n",
       "      <th>bmi_std</th>\n",
       "      <td>1.000000</td>\n",
       "      <td>0.111124</td>\n",
       "      <td>0.021083</td>\n",
       "      <td>0.131524</td>\n",
       "      <td>0.041907</td>\n",
       "      <td>-0.006905</td>\n",
       "      <td>0.001348</td>\n",
       "      <td>0.261456</td>\n",
       "      <td>-0.132445</td>\n",
       "      <td>-0.139463</td>\n",
       "      <td>NaN</td>\n",
       "      <td>NaN</td>\n",
       "      <td>NaN</td>\n",
       "      <td>NaN</td>\n",
       "      <td>NaN</td>\n",
       "      <td>NaN</td>\n",
       "    </tr>\n",
       "    <tr>\n",
       "      <th>age_log</th>\n",
       "      <td>0.111124</td>\n",
       "      <td>1.000000</td>\n",
       "      <td>0.103066</td>\n",
       "      <td>0.538618</td>\n",
       "      <td>-0.019419</td>\n",
       "      <td>-0.025514</td>\n",
       "      <td>0.011953</td>\n",
       "      <td>-0.012438</td>\n",
       "      <td>0.000255</td>\n",
       "      <td>0.000657</td>\n",
       "      <td>NaN</td>\n",
       "      <td>NaN</td>\n",
       "      <td>NaN</td>\n",
       "      <td>NaN</td>\n",
       "      <td>NaN</td>\n",
       "      <td>NaN</td>\n",
       "    </tr>\n",
       "    <tr>\n",
       "      <th>children_log</th>\n",
       "      <td>0.021083</td>\n",
       "      <td>0.103066</td>\n",
       "      <td>1.000000</td>\n",
       "      <td>0.177029</td>\n",
       "      <td>0.017260</td>\n",
       "      <td>0.016471</td>\n",
       "      <td>0.014301</td>\n",
       "      <td>-0.013640</td>\n",
       "      <td>0.029411</td>\n",
       "      <td>-0.029636</td>\n",
       "      <td>NaN</td>\n",
       "      <td>NaN</td>\n",
       "      <td>NaN</td>\n",
       "      <td>NaN</td>\n",
       "      <td>NaN</td>\n",
       "      <td>NaN</td>\n",
       "    </tr>\n",
       "    <tr>\n",
       "      <th>charges_log</th>\n",
       "      <td>0.131524</td>\n",
       "      <td>0.538618</td>\n",
       "      <td>0.177029</td>\n",
       "      <td>1.000000</td>\n",
       "      <td>0.005520</td>\n",
       "      <td>0.658171</td>\n",
       "      <td>-0.043801</td>\n",
       "      <td>0.017471</td>\n",
       "      <td>-0.019929</td>\n",
       "      <td>0.045708</td>\n",
       "      <td>NaN</td>\n",
       "      <td>NaN</td>\n",
       "      <td>NaN</td>\n",
       "      <td>NaN</td>\n",
       "      <td>NaN</td>\n",
       "      <td>NaN</td>\n",
       "    </tr>\n",
       "    <tr>\n",
       "      <th>sex</th>\n",
       "      <td>0.041907</td>\n",
       "      <td>-0.019419</td>\n",
       "      <td>0.017260</td>\n",
       "      <td>0.005520</td>\n",
       "      <td>1.000000</td>\n",
       "      <td>0.075320</td>\n",
       "      <td>-0.006037</td>\n",
       "      <td>0.012401</td>\n",
       "      <td>-0.009551</td>\n",
       "      <td>0.002764</td>\n",
       "      <td>1.000000</td>\n",
       "      <td>0.075320</td>\n",
       "      <td>-0.006037</td>\n",
       "      <td>0.012401</td>\n",
       "      <td>-0.009551</td>\n",
       "      <td>0.002764</td>\n",
       "    </tr>\n",
       "    <tr>\n",
       "      <th>smoker</th>\n",
       "      <td>-0.006905</td>\n",
       "      <td>-0.025514</td>\n",
       "      <td>0.016471</td>\n",
       "      <td>0.658171</td>\n",
       "      <td>0.075320</td>\n",
       "      <td>1.000000</td>\n",
       "      <td>-0.038586</td>\n",
       "      <td>0.068653</td>\n",
       "      <td>-0.038586</td>\n",
       "      <td>0.006174</td>\n",
       "      <td>0.075320</td>\n",
       "      <td>1.000000</td>\n",
       "      <td>-0.038586</td>\n",
       "      <td>0.068653</td>\n",
       "      <td>-0.038586</td>\n",
       "      <td>0.006174</td>\n",
       "    </tr>\n",
       "    <tr>\n",
       "      <th>is_southwest</th>\n",
       "      <td>0.001348</td>\n",
       "      <td>0.011953</td>\n",
       "      <td>0.014301</td>\n",
       "      <td>-0.043801</td>\n",
       "      <td>-0.006037</td>\n",
       "      <td>-0.038586</td>\n",
       "      <td>1.000000</td>\n",
       "      <td>-0.345108</td>\n",
       "      <td>-0.322034</td>\n",
       "      <td>-0.321375</td>\n",
       "      <td>-0.006037</td>\n",
       "      <td>-0.038586</td>\n",
       "      <td>1.000000</td>\n",
       "      <td>-0.345108</td>\n",
       "      <td>-0.322034</td>\n",
       "      <td>-0.321375</td>\n",
       "    </tr>\n",
       "    <tr>\n",
       "      <th>is_southeast</th>\n",
       "      <td>0.261456</td>\n",
       "      <td>-0.012438</td>\n",
       "      <td>-0.013640</td>\n",
       "      <td>0.017471</td>\n",
       "      <td>0.012401</td>\n",
       "      <td>0.068653</td>\n",
       "      <td>-0.345108</td>\n",
       "      <td>1.000000</td>\n",
       "      <td>-0.345108</td>\n",
       "      <td>-0.344401</td>\n",
       "      <td>0.012401</td>\n",
       "      <td>0.068653</td>\n",
       "      <td>-0.345108</td>\n",
       "      <td>1.000000</td>\n",
       "      <td>-0.345108</td>\n",
       "      <td>-0.344401</td>\n",
       "    </tr>\n",
       "    <tr>\n",
       "      <th>is_northwest</th>\n",
       "      <td>-0.132445</td>\n",
       "      <td>0.000255</td>\n",
       "      <td>0.029411</td>\n",
       "      <td>-0.019929</td>\n",
       "      <td>-0.009551</td>\n",
       "      <td>-0.038586</td>\n",
       "      <td>-0.322034</td>\n",
       "      <td>-0.345108</td>\n",
       "      <td>1.000000</td>\n",
       "      <td>-0.321375</td>\n",
       "      <td>-0.009551</td>\n",
       "      <td>-0.038586</td>\n",
       "      <td>-0.322034</td>\n",
       "      <td>-0.345108</td>\n",
       "      <td>1.000000</td>\n",
       "      <td>-0.321375</td>\n",
       "    </tr>\n",
       "    <tr>\n",
       "      <th>is_northeast</th>\n",
       "      <td>-0.139463</td>\n",
       "      <td>0.000657</td>\n",
       "      <td>-0.029636</td>\n",
       "      <td>0.045708</td>\n",
       "      <td>0.002764</td>\n",
       "      <td>0.006174</td>\n",
       "      <td>-0.321375</td>\n",
       "      <td>-0.344401</td>\n",
       "      <td>-0.321375</td>\n",
       "      <td>1.000000</td>\n",
       "      <td>0.002764</td>\n",
       "      <td>0.006174</td>\n",
       "      <td>-0.321375</td>\n",
       "      <td>-0.344401</td>\n",
       "      <td>-0.321375</td>\n",
       "      <td>1.000000</td>\n",
       "    </tr>\n",
       "  </tbody>\n",
       "</table>\n",
       "</div>"
      ],
      "text/plain": [
       "               bmi_std   age_log  children_log  charges_log       sex  \\\n",
       "bmi_std       1.000000  0.111124      0.021083     0.131524  0.041907   \n",
       "age_log       0.111124  1.000000      0.103066     0.538618 -0.019419   \n",
       "children_log  0.021083  0.103066      1.000000     0.177029  0.017260   \n",
       "charges_log   0.131524  0.538618      0.177029     1.000000  0.005520   \n",
       "sex           0.041907 -0.019419      0.017260     0.005520  1.000000   \n",
       "smoker       -0.006905 -0.025514      0.016471     0.658171  0.075320   \n",
       "is_southwest  0.001348  0.011953      0.014301    -0.043801 -0.006037   \n",
       "is_southeast  0.261456 -0.012438     -0.013640     0.017471  0.012401   \n",
       "is_northwest -0.132445  0.000255      0.029411    -0.019929 -0.009551   \n",
       "is_northeast -0.139463  0.000657     -0.029636     0.045708  0.002764   \n",
       "\n",
       "                smoker  is_southwest  is_southeast  is_northwest  \\\n",
       "bmi_std      -0.006905      0.001348      0.261456     -0.132445   \n",
       "age_log      -0.025514      0.011953     -0.012438      0.000255   \n",
       "children_log  0.016471      0.014301     -0.013640      0.029411   \n",
       "charges_log   0.658171     -0.043801      0.017471     -0.019929   \n",
       "sex           0.075320     -0.006037      0.012401     -0.009551   \n",
       "smoker        1.000000     -0.038586      0.068653     -0.038586   \n",
       "is_southwest -0.038586      1.000000     -0.345108     -0.322034   \n",
       "is_southeast  0.068653     -0.345108      1.000000     -0.345108   \n",
       "is_northwest -0.038586     -0.322034     -0.345108      1.000000   \n",
       "is_northeast  0.006174     -0.321375     -0.344401     -0.321375   \n",
       "\n",
       "              is_northeast       sex    smoker  is_southwest  is_southeast  \\\n",
       "bmi_std          -0.139463       NaN       NaN           NaN           NaN   \n",
       "age_log           0.000657       NaN       NaN           NaN           NaN   \n",
       "children_log     -0.029636       NaN       NaN           NaN           NaN   \n",
       "charges_log       0.045708       NaN       NaN           NaN           NaN   \n",
       "sex               0.002764  1.000000  0.075320     -0.006037      0.012401   \n",
       "smoker            0.006174  0.075320  1.000000     -0.038586      0.068653   \n",
       "is_southwest     -0.321375 -0.006037 -0.038586      1.000000     -0.345108   \n",
       "is_southeast     -0.344401  0.012401  0.068653     -0.345108      1.000000   \n",
       "is_northwest     -0.321375 -0.009551 -0.038586     -0.322034     -0.345108   \n",
       "is_northeast      1.000000  0.002764  0.006174     -0.321375     -0.344401   \n",
       "\n",
       "              is_northwest  is_northeast  \n",
       "bmi_std                NaN           NaN  \n",
       "age_log                NaN           NaN  \n",
       "children_log           NaN           NaN  \n",
       "charges_log            NaN           NaN  \n",
       "sex              -0.009551      0.002764  \n",
       "smoker           -0.038586      0.006174  \n",
       "is_southwest     -0.322034     -0.321375  \n",
       "is_southeast     -0.345108     -0.344401  \n",
       "is_northwest      1.000000     -0.321375  \n",
       "is_northeast     -0.321375      1.000000  "
      ]
     },
     "execution_count": 99,
     "metadata": {},
     "output_type": "execute_result"
    }
   ],
   "source": [
    "combined_corr_2.fillna(binary_corr_matrix_df, inplace=True)"
   ]
  },
  {
   "cell_type": "code",
   "execution_count": 103,
   "metadata": {},
   "outputs": [],
   "source": [
    "combined_corr_2.dropna(inplace=True, axis = 1)"
   ]
  },
  {
   "cell_type": "code",
   "execution_count": 104,
   "metadata": {},
   "outputs": [
    {
     "data": {
      "text/html": [
       "<div>\n",
       "<style scoped>\n",
       "    .dataframe tbody tr th:only-of-type {\n",
       "        vertical-align: middle;\n",
       "    }\n",
       "\n",
       "    .dataframe tbody tr th {\n",
       "        vertical-align: top;\n",
       "    }\n",
       "\n",
       "    .dataframe thead th {\n",
       "        text-align: right;\n",
       "    }\n",
       "</style>\n",
       "<table border=\"1\" class=\"dataframe\">\n",
       "  <thead>\n",
       "    <tr style=\"text-align: right;\">\n",
       "      <th></th>\n",
       "      <th>bmi_std</th>\n",
       "      <th>age_log</th>\n",
       "      <th>children_log</th>\n",
       "      <th>charges_log</th>\n",
       "      <th>sex</th>\n",
       "      <th>smoker</th>\n",
       "      <th>is_southwest</th>\n",
       "      <th>is_southeast</th>\n",
       "      <th>is_northwest</th>\n",
       "      <th>is_northeast</th>\n",
       "    </tr>\n",
       "  </thead>\n",
       "  <tbody>\n",
       "    <tr>\n",
       "      <th>bmi_std</th>\n",
       "      <td>1.000000</td>\n",
       "      <td>0.111124</td>\n",
       "      <td>0.021083</td>\n",
       "      <td>0.131524</td>\n",
       "      <td>0.041907</td>\n",
       "      <td>-0.006905</td>\n",
       "      <td>0.001348</td>\n",
       "      <td>0.261456</td>\n",
       "      <td>-0.132445</td>\n",
       "      <td>-0.139463</td>\n",
       "    </tr>\n",
       "    <tr>\n",
       "      <th>age_log</th>\n",
       "      <td>0.111124</td>\n",
       "      <td>1.000000</td>\n",
       "      <td>0.103066</td>\n",
       "      <td>0.538618</td>\n",
       "      <td>-0.019419</td>\n",
       "      <td>-0.025514</td>\n",
       "      <td>0.011953</td>\n",
       "      <td>-0.012438</td>\n",
       "      <td>0.000255</td>\n",
       "      <td>0.000657</td>\n",
       "    </tr>\n",
       "    <tr>\n",
       "      <th>children_log</th>\n",
       "      <td>0.021083</td>\n",
       "      <td>0.103066</td>\n",
       "      <td>1.000000</td>\n",
       "      <td>0.177029</td>\n",
       "      <td>0.017260</td>\n",
       "      <td>0.016471</td>\n",
       "      <td>0.014301</td>\n",
       "      <td>-0.013640</td>\n",
       "      <td>0.029411</td>\n",
       "      <td>-0.029636</td>\n",
       "    </tr>\n",
       "    <tr>\n",
       "      <th>charges_log</th>\n",
       "      <td>0.131524</td>\n",
       "      <td>0.538618</td>\n",
       "      <td>0.177029</td>\n",
       "      <td>1.000000</td>\n",
       "      <td>0.005520</td>\n",
       "      <td>0.658171</td>\n",
       "      <td>-0.043801</td>\n",
       "      <td>0.017471</td>\n",
       "      <td>-0.019929</td>\n",
       "      <td>0.045708</td>\n",
       "    </tr>\n",
       "    <tr>\n",
       "      <th>sex</th>\n",
       "      <td>0.041907</td>\n",
       "      <td>-0.019419</td>\n",
       "      <td>0.017260</td>\n",
       "      <td>0.005520</td>\n",
       "      <td>1.000000</td>\n",
       "      <td>0.075320</td>\n",
       "      <td>-0.006037</td>\n",
       "      <td>0.012401</td>\n",
       "      <td>-0.009551</td>\n",
       "      <td>0.002764</td>\n",
       "    </tr>\n",
       "    <tr>\n",
       "      <th>smoker</th>\n",
       "      <td>-0.006905</td>\n",
       "      <td>-0.025514</td>\n",
       "      <td>0.016471</td>\n",
       "      <td>0.658171</td>\n",
       "      <td>0.075320</td>\n",
       "      <td>1.000000</td>\n",
       "      <td>-0.038586</td>\n",
       "      <td>0.068653</td>\n",
       "      <td>-0.038586</td>\n",
       "      <td>0.006174</td>\n",
       "    </tr>\n",
       "    <tr>\n",
       "      <th>is_southwest</th>\n",
       "      <td>0.001348</td>\n",
       "      <td>0.011953</td>\n",
       "      <td>0.014301</td>\n",
       "      <td>-0.043801</td>\n",
       "      <td>-0.006037</td>\n",
       "      <td>-0.038586</td>\n",
       "      <td>1.000000</td>\n",
       "      <td>-0.345108</td>\n",
       "      <td>-0.322034</td>\n",
       "      <td>-0.321375</td>\n",
       "    </tr>\n",
       "    <tr>\n",
       "      <th>is_southeast</th>\n",
       "      <td>0.261456</td>\n",
       "      <td>-0.012438</td>\n",
       "      <td>-0.013640</td>\n",
       "      <td>0.017471</td>\n",
       "      <td>0.012401</td>\n",
       "      <td>0.068653</td>\n",
       "      <td>-0.345108</td>\n",
       "      <td>1.000000</td>\n",
       "      <td>-0.345108</td>\n",
       "      <td>-0.344401</td>\n",
       "    </tr>\n",
       "    <tr>\n",
       "      <th>is_northwest</th>\n",
       "      <td>-0.132445</td>\n",
       "      <td>0.000255</td>\n",
       "      <td>0.029411</td>\n",
       "      <td>-0.019929</td>\n",
       "      <td>-0.009551</td>\n",
       "      <td>-0.038586</td>\n",
       "      <td>-0.322034</td>\n",
       "      <td>-0.345108</td>\n",
       "      <td>1.000000</td>\n",
       "      <td>-0.321375</td>\n",
       "    </tr>\n",
       "    <tr>\n",
       "      <th>is_northeast</th>\n",
       "      <td>-0.139463</td>\n",
       "      <td>0.000657</td>\n",
       "      <td>-0.029636</td>\n",
       "      <td>0.045708</td>\n",
       "      <td>0.002764</td>\n",
       "      <td>0.006174</td>\n",
       "      <td>-0.321375</td>\n",
       "      <td>-0.344401</td>\n",
       "      <td>-0.321375</td>\n",
       "      <td>1.000000</td>\n",
       "    </tr>\n",
       "  </tbody>\n",
       "</table>\n",
       "</div>"
      ],
      "text/plain": [
       "               bmi_std   age_log  children_log  charges_log       sex  \\\n",
       "bmi_std       1.000000  0.111124      0.021083     0.131524  0.041907   \n",
       "age_log       0.111124  1.000000      0.103066     0.538618 -0.019419   \n",
       "children_log  0.021083  0.103066      1.000000     0.177029  0.017260   \n",
       "charges_log   0.131524  0.538618      0.177029     1.000000  0.005520   \n",
       "sex           0.041907 -0.019419      0.017260     0.005520  1.000000   \n",
       "smoker       -0.006905 -0.025514      0.016471     0.658171  0.075320   \n",
       "is_southwest  0.001348  0.011953      0.014301    -0.043801 -0.006037   \n",
       "is_southeast  0.261456 -0.012438     -0.013640     0.017471  0.012401   \n",
       "is_northwest -0.132445  0.000255      0.029411    -0.019929 -0.009551   \n",
       "is_northeast -0.139463  0.000657     -0.029636     0.045708  0.002764   \n",
       "\n",
       "                smoker  is_southwest  is_southeast  is_northwest  is_northeast  \n",
       "bmi_std      -0.006905      0.001348      0.261456     -0.132445     -0.139463  \n",
       "age_log      -0.025514      0.011953     -0.012438      0.000255      0.000657  \n",
       "children_log  0.016471      0.014301     -0.013640      0.029411     -0.029636  \n",
       "charges_log   0.658171     -0.043801      0.017471     -0.019929      0.045708  \n",
       "sex           0.075320     -0.006037      0.012401     -0.009551      0.002764  \n",
       "smoker        1.000000     -0.038586      0.068653     -0.038586      0.006174  \n",
       "is_southwest -0.038586      1.000000     -0.345108     -0.322034     -0.321375  \n",
       "is_southeast  0.068653     -0.345108      1.000000     -0.345108     -0.344401  \n",
       "is_northwest -0.038586     -0.322034     -0.345108      1.000000     -0.321375  \n",
       "is_northeast  0.006174     -0.321375     -0.344401     -0.321375      1.000000  "
      ]
     },
     "execution_count": 104,
     "metadata": {},
     "output_type": "execute_result"
    }
   ],
   "source": [
    "combined_corr_2"
   ]
  },
  {
   "cell_type": "code",
   "execution_count": null,
   "metadata": {},
   "outputs": [],
   "source": [
    "# Plot the heatmap\n",
    "plt.figure(figsize=(8, 4))\n",
    "sns.heatmap(combined_corr, annot=True, fmt=\".2f\", cmap=\"coolwarm\", xticklabels=True, yticklabels=True)\n",
    "plt.title(\"Correlation Matrix with Mixed Data Types\")\n",
    "plt.show()"
   ]
  },
  {
   "cell_type": "code",
   "execution_count": 65,
   "metadata": {},
   "outputs": [],
   "source": [
    "# Compute Point Biserial correlation between the log-transformed charges and binary parameters\n",
    "\n",
    "from scipy.stats import pointbiserialr\n",
    "\n",
    "bin_cor = []\n",
    "bin_p_value = []\n",
    "\n",
    "sex_correlation, sex_p_value = pointbiserialr(df_for_cor['sex'], df_for_cor['charges_log'])\n",
    "bin_cor.append(sex_correlation)\n",
    "bin_p_value.append(sex_p_value)\n",
    "smoker_correlation, smoker_p_value = pointbiserialr(df_for_cor['smoker'], df_for_cor['charges_log'])\n",
    "bin_cor.append(smoker_correlation)\n",
    "bin_p_value.append(smoker_p_value)\n",
    "southwest_correlation, southwest_p_value = pointbiserialr(df_for_cor['is_southwest'], df_for_cor['charges_log'])\n",
    "bin_cor.append(southwest_correlation)\n",
    "bin_p_value.append(southwest_p_value)\n",
    "southeast_correlation, southeast_p_value = pointbiserialr(df_for_cor['is_southeast'], df_for_cor['charges_log'])\n",
    "bin_cor.append(southeast_correlation)\n",
    "bin_p_value.append(southeast_p_value)\n",
    "northwest_correlation, northwest_p_value = pointbiserialr(df_for_cor['is_northwest'], df_for_cor['charges_log'])\n",
    "bin_cor.append(northwest_correlation)\n",
    "bin_p_value.append(northwest_p_value)\n",
    "northeast_correlation, northeast_p_value = pointbiserialr(df_for_cor['is_northeast'], df_for_cor['charges_log'])\n",
    "bin_cor.append(northeast_correlation)\n",
    "bin_p_value.append(northeast_p_value)\n",
    "\n",
    "# print(f\"Point Biserial Correlation: {sex_correlation}\")\n",
    "# print(f\"P-value: {sex_p_value}\")\n"
   ]
  },
  {
   "cell_type": "code",
   "execution_count": 66,
   "metadata": {},
   "outputs": [
    {
     "data": {
      "text/plain": [
       "[np.float64(0.005520258657082196),\n",
       " np.float64(0.658170893110646),\n",
       " np.float64(-0.04380074630197746),\n",
       " np.float64(0.01747132728860305),\n",
       " np.float64(-0.01992914890759978),\n",
       " np.float64(0.045708160222150546)]"
      ]
     },
     "execution_count": 66,
     "metadata": {},
     "output_type": "execute_result"
    }
   ],
   "source": [
    "bin_cor\n",
    "#bin_p_value"
   ]
  },
  {
   "cell_type": "code",
   "execution_count": 51,
   "metadata": {},
   "outputs": [
    {
     "name": "stdout",
     "output_type": "stream",
     "text": [
      "Pearson's Correlation: 0.16617272778667982\n",
      "P-value: 1.1452571835939632e-09\n"
     ]
    }
   ],
   "source": [
    "# Compute Pearson's correlation between the log-transformed charges and continuous parameters\n",
    "\n",
    "from scipy.stats import pearsonr\n",
    "\n",
    "num_cor = []\n",
    "num_p_value = []\n",
    "\n",
    "bmi_std_correlation, bmi_std_p_value = pearsonr(df_for_cor['bmi_std'], df_for_cor['charges_log'])\n",
    "num_cor.append(bmi_std_correlation)\n",
    "num_p_value\n",
    "age_log_correlation, age_log_p_value = pearsonr(df_for_cor['age_log'], df_for_cor['charges_log'])\n",
    "num_cor\n",
    "num_p_value\n",
    "children_log_correlation, children_log_p_value = pearsonr(df_for_cor['children_log'], df_for_cor['charges_log'])\n",
    "num_cor\n",
    "num_p_value"
   ]
  },
  {
   "cell_type": "code",
   "execution_count": 55,
   "metadata": {},
   "outputs": [
    {
     "name": "stdout",
     "output_type": "stream",
     "text": [
      "Pearson's Correlation: 0.1770287827069207\n",
      "P-value: 8.491069618461747e-11\n"
     ]
    }
   ],
   "source": []
  },
  {
   "cell_type": "markdown",
   "metadata": {},
   "source": [
    "5. **Analyse bivariée :** Exemple : interaction entre sexe et fumeur.\n",
    "6. **Visualisations graphiques :**\n",
    "    - Utilisez des box plots ou violin plots (outil : `seaborn`).\n",
    "7. **Validation des hypothèses :** Utilisez des tests statistiques.\n",
    "8. **Visualisations :** Appuyez chaque point par des graphiques pertinents.\n",
    "16977.45"
   ]
  }
 ],
 "metadata": {
  "kernelspec": {
   "display_name": ".venv",
   "language": "python",
   "name": "python3"
  },
  "language_info": {
   "codemirror_mode": {
    "name": "ipython",
    "version": 3
   },
   "file_extension": ".py",
   "mimetype": "text/x-python",
   "name": "python",
   "nbconvert_exporter": "python",
   "pygments_lexer": "ipython3",
   "version": "3.12.3"
  }
 },
 "nbformat": 4,
 "nbformat_minor": 2
}
