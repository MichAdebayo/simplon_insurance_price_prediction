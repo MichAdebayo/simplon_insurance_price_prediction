{
 "cells": [
  {
   "cell_type": "markdown",
   "metadata": {},
   "source": [
    "# Contexte du projet"
   ]
  },
  {
   "cell_type": "markdown",
   "metadata": {},
   "source": [
    "\n",
    "Vous venez de lancer votre société de conseil dans le domaine de la data et d’IA avec votre associé. Après un travail de prospection, vous rentrez en compétition dans un premier appel d’offre : Assur’aimant, un assureur français opérant historiquement à un niveau national, décide de s’implanter aux États-Unis. L’assureur sollicite plusieurs société dans l’IA pour créer une solution qui pourrait permettre d’estimer la prime d’assurance de ses souscripteurs sur ce marché. Actuellement, afin de pouvoir estimer les primes d’assurance les courtiers utilisent des ratios et leur expérience, cependant cette méthode est longue et coûteuse.\n",
    "\n",
    "Suite à plusieurs échanges, vous vous êtes rendu dans les locaux d’Assur’Aimant à Houston pour constituer un jeu de données exploitable pour votre modélisation. Vous avez notamment extrait les informations suivantes :\n",
    "\n",
    "l’indice de masse corporel (bmi) : ça permet de donner un rapport entre la taille et le poids. Idéalement, il faut être en 28.5 et 24.9 le sexe (sex): le genre de la personne qui contracte l'assurance, homme ou femme l’âge (age): l'âge du principal bénéficiaire le nombre d’enfant à charge (children) : Nombre d'enfant couverts par l'assurance smoker : fumeur ou non-fumeur région (region) : le zone résidentielle dans les US, nord-est, sud-est, sud-ouest, nord-ouest charges : la prime d’assurance facturée (cible)\n",
    "\n",
    "L’équipe de direction d’Assur’aimant vous demande également de réaliser une analyse des données afin qu’elle puisse mieux connaître ses clients. Votre objectif est donc double :\n",
    "\n",
    "Réalisez une étude exploratoire des données Réalisez un modèle de machine learning qui estimera les primes d’assurance des clients en fonction de leur données démographiques.\n",
    "\n",
    "Étant donnée votre petite structure, vous êtes polyvalents et vous endossez tous les deux les rôles de data scientist / data analyst / data engineer. Vous êtes des full stack data."
   ]
  },
  {
   "cell_type": "markdown",
   "metadata": {},
   "source": [
    "\n",
    "\n",
    "3. **Analyse univariée :** Analysez chaque variable indépendamment.\n",
    "4. **Corrélation des variables :** Étudiez les corrélations avec la variable cible.\n",
    "5. **Analyse bivariée :** Exemple : interaction entre sexe et fumeur.\n",
    "6. **Visualisations graphiques :**\n",
    "    - Utilisez des box plots ou violin plots (outil : `seaborn`).\n",
    "7. **Validation des hypothèses :** Utilisez des tests statistiques.\n",
    "8. **Visualisations :** Appuyez chaque point par des graphiques pertinents."
   ]
  },
  {
   "cell_type": "code",
   "execution_count": 7,
   "metadata": {},
   "outputs": [],
   "source": [
    "import pandas as pd\n",
    "import numpy as np\n",
    "import missingno as msno\n",
    "import seaborn as sns\n",
    "import matplotlib.pyplot as plt"
   ]
  },
  {
   "cell_type": "markdown",
   "metadata": {},
   "source": [
    "### Partie Analyse :\n",
    "\n",
    "1. **Vérifiez les informations manquantes et les doublons** (outil : `missingno`)."
   ]
  },
  {
   "cell_type": "code",
   "execution_count": null,
   "metadata": {},
   "outputs": [],
   "source": [
    "# Load dataset\n",
    "df = pd.read_csv(\"assurance_dataset.csv\")"
   ]
  },
  {
   "cell_type": "code",
   "execution_count": null,
   "metadata": {},
   "outputs": [],
   "source": [
    "# View first 10 data rows\n",
    "df.head(10)"
   ]
  },
  {
   "cell_type": "code",
   "execution_count": null,
   "metadata": {},
   "outputs": [],
   "source": [
    "# View data types for each variable\n",
    "df.dtypes"
   ]
  },
  {
   "cell_type": "code",
   "execution_count": null,
   "metadata": {},
   "outputs": [],
   "source": [
    "# Check for missing data (in numbers)\n",
    "df.isna().sum()"
   ]
  },
  {
   "cell_type": "code",
   "execution_count": null,
   "metadata": {},
   "outputs": [],
   "source": [
    "# Check for missing data (vizualization)\n",
    "msno.bar(df) "
   ]
  },
  {
   "cell_type": "code",
   "execution_count": null,
   "metadata": {},
   "outputs": [],
   "source": [
    "# Check for duplicates\n",
    "df.duplicated().count()"
   ]
  },
  {
   "cell_type": "code",
   "execution_count": null,
   "metadata": {},
   "outputs": [],
   "source": [
    "# Confirm the number of regions in dataset\n",
    "df['region'].unique()"
   ]
  },
  {
   "cell_type": "code",
   "execution_count": null,
   "metadata": {},
   "outputs": [],
   "source": [
    "# Round bmi to 2 decimal places\n",
    "\n",
    "df['bmi'] = df['bmi'].apply(lambda x: round(x, 2))"
   ]
  },
  {
   "cell_type": "code",
   "execution_count": null,
   "metadata": {},
   "outputs": [],
   "source": [
    "# Round charges to 2 decimal places\n",
    "df['charges'] = df['charges'].apply(lambda x: round(x, 2))"
   ]
  },
  {
   "cell_type": "code",
   "execution_count": null,
   "metadata": {},
   "outputs": [],
   "source": [
    "# Convert smokers column to numeric\n",
    "df['smoker'] = df['smoker'].apply(lambda x: 1 if x == \"yes\" else 0)"
   ]
  },
  {
   "cell_type": "code",
   "execution_count": 31,
   "metadata": {},
   "outputs": [],
   "source": [
    "# Convert sex column to numeric\n",
    "df['sex'] = df['sex'].apply(lambda x: 1 if x == \"male\" else 0)"
   ]
  },
  {
   "cell_type": "markdown",
   "metadata": {},
   "source": [
    "2. **Détection des valeurs aberrantes.**"
   ]
  },
  {
   "cell_type": "code",
   "execution_count": null,
   "metadata": {},
   "outputs": [
    {
     "data": {
      "text/plain": [
       "Text(5.069444444444445, 0.5, 'Frequency')"
      ]
     },
     "execution_count": 47,
     "metadata": {},
     "output_type": "execute_result"
    },
    {
     "data": {
      "image/png": "[encoded data removed]",
      "text/plain": [
       "<Figure size 500x500 with 1 Axes>"
      ]
     },
     "metadata": {},
     "output_type": "display_data"
    }
   ],
   "source": [
    "# Distribution of the insured by age\n",
    "sns.displot(df, x = 'age', kind='hist')\n",
    "plt.title(\"Distribution of the insured by age\", fontsize= 13, weight = \"bold\")\n",
    "plt.xlabel(\"Age\", weight = 10)\n",
    "plt.ylabel(\"Frequency\", weight = 10)"
   ]
  },
  {
   "cell_type": "code",
   "execution_count": null,
   "metadata": {},
   "outputs": [
    {
     "data": {
      "text/plain": [
       "Text(5.069444444444445, 0.5, 'Frequency')"
      ]
     },
     "execution_count": 51,
     "metadata": {},
     "output_type": "execute_result"
    },
    {
     "data": {
      "image/png": "[encoded data removed]",
      "text/plain": [
       "<Figure size 500x500 with 1 Axes>"
      ]
     },
     "metadata": {},
     "output_type": "display_data"
    }
   ],
   "source": [
    "# Distribution of the insured by bmi (body:mass index)\n",
    "sns.displot(df, x = 'bmi', kind='hist')\n",
    "plt.title(\"Distribution of the insured by BMI\", fontsize= 13, weight = \"bold\")\n",
    "plt.xlabel(\"BMI\", weight = 10)\n",
    "plt.ylabel(\"Frequency\", weight = 10)"
   ]
  },
  {
   "cell_type": "code",
   "execution_count": 55,
   "metadata": {},
   "outputs": [
    {
     "data": {
      "text/plain": [
       "age         5\n",
       "sex         5\n",
       "bmi         5\n",
       "children    5\n",
       "smoker      5\n",
       "region      5\n",
       "charges     5\n",
       "dtype: int64"
      ]
     },
     "execution_count": 55,
     "metadata": {},
     "output_type": "execute_result"
    }
   ],
   "source": [
    "# Find number of people with \"outlier\" BMI values\n",
    "\n",
    "insured_with_high_bmi = df.loc[df['bmi'] > 48, :]\n",
    "\n",
    "num_with_high_bmi = insured_with_high_bmi.count()\n",
    "\n",
    "num_with_high_bmi"
   ]
  },
  {
   "cell_type": "code",
   "execution_count": null,
   "metadata": {},
   "outputs": [],
   "source": [
    "# Drop rows with BMI values > 48\n",
    "\n",
    "df = df.drop(insured_with_high_bmi)"
   ]
  },
  {
   "cell_type": "code",
   "execution_count": 52,
   "metadata": {},
   "outputs": [
    {
     "data": {
      "text/plain": [
       "Text(5.069444444444445, 0.5, 'Frequency')"
      ]
     },
     "execution_count": 52,
     "metadata": {},
     "output_type": "execute_result"
    },
    {
     "data": {
      "image/png": "[encoded data removed]",
      "text/plain": [
       "<Figure size 500x500 with 1 Axes>"
      ]
     },
     "metadata": {},
     "output_type": "display_data"
    }
   ],
   "source": [
    "# Distribution of the insured by charges\n",
    "sns.displot(df, x = 'charges', kind='hist')\n",
    "plt.title(\"Distribution of the insured by charges\", fontsize= 13, weight = \"bold\")\n",
    "plt.xlabel(\"Charges (€)\", weight = 10)\n",
    "plt.ylabel(\"Frequency\", weight = 10)"
   ]
  },
  {
   "cell_type": "code",
   "execution_count": 54,
   "metadata": {},
   "outputs": [
    {
     "data": {
      "text/plain": [
       "age         7\n",
       "sex         7\n",
       "bmi         7\n",
       "children    7\n",
       "smoker      7\n",
       "region      7\n",
       "charges     7\n",
       "dtype: int64"
      ]
     },
     "execution_count": 54,
     "metadata": {},
     "output_type": "execute_result"
    }
   ],
   "source": [
    "high_charges = df.loc[df['charges'] > 50000, :].count()\n",
    "\n",
    "high_charges"
   ]
  }
 ],
 "metadata": {
  "kernelspec": {
   "display_name": ".venv",
   "language": "python",
   "name": "python3"
  },
  "language_info": {
   "codemirror_mode": {
    "name": "ipython",
    "version": 3
   },
   "file_extension": ".py",
   "mimetype": "text/x-python",
   "name": "python",
   "nbconvert_exporter": "python",
   "pygments_lexer": "ipython3",
   "version": "3.12.3"
  }
 },
 "nbformat": 4,
 "nbformat_minor": 2
}
