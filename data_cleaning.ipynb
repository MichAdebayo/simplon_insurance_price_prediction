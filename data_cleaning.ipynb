{
 "cells": [
  {
   "cell_type": "markdown",
   "metadata": {},
   "source": [
    "# Project Context"
   ]
  },
  {
   "cell_type": "markdown",
   "metadata": {},
   "source": [
    "You have just launched your consulting company in the field of data and AI with your partner. After some prospecting work, you are competing in a first call for tenders: Assur'aimant, a French insurer historically operating at a national level, decides to set up in the United States. The insurer is soliciting several AI companies to create a solution that could estimate the insurance premium of its subscribers in this market. Currently, in order to be able to estimate insurance premiums, brokers use ratios and their experience, however this method is long and expensive.\n",
    "\n",
    "Following several discussions, you went to the Assur'Aimant offices in Houston to create a data set that can be used for your modeling. In particular, you extracted the following information:\n",
    "\n",
    "- Body mass index (BMI): this allows you to give a relationship between height and weight. Ideally, you should be between 28.5 and 24.9 \n",
    "- Sex: the gender of the person taking out the insurance, \n",
    "- Male or female age: the age of the main beneficiary \n",
    "- Number of dependent children (children): Number of children covered by the insurance \n",
    "- Smoker: smoker or non-smoker \n",
    "- Region: the residential area in the US, northeast, southeast, southwest, northwest \n",
    "- Charges: the insurance premium billed (target)\n",
    "\n",
    "The Assur'aimant management team also asks you to perform a data analysis so that it can better understand its customers. Your objective is therefore twofold:\n",
    "\n",
    "- Conduct an exploratory study of the data \n",
    "- Create a machine learning model that will estimate the insurance premiums of customers based on their demographic data.\n",
    "\n",
    "Given your small structure, you are versatile and you both take on the roles of data scientist / data analyst / data engineer. You are full stack data."
   ]
  },
  {
   "cell_type": "code",
   "execution_count": 1,
   "metadata": {},
   "outputs": [],
   "source": [
    "import pandas as pd\n",
    "import missingno as msno"
   ]
  },
  {
   "cell_type": "markdown",
   "metadata": {},
   "source": [
    "### Data Cleaning:\n",
    "\n",
    "1. **Check missing information and duplicates** (tool: `missingno`)."
   ]
  },
  {
   "cell_type": "code",
   "execution_count": 2,
   "metadata": {},
   "outputs": [],
   "source": [
    "# Load dataset\n",
    "df = pd.read_csv(\"assurance_dataset.csv\")"
   ]
  },
  {
   "cell_type": "code",
   "execution_count": 3,
   "metadata": {},
   "outputs": [],
   "source": [
    "# Make a copy of raw dataset\n",
    "dfi = df.copy()"
   ]
  },
  {
   "cell_type": "code",
   "execution_count": null,
   "metadata": {},
   "outputs": [],
   "source": [
    "# View first 10 data rows\n",
    "dfi.head(10)"
   ]
  },
  {
   "cell_type": "code",
   "execution_count": null,
   "metadata": {},
   "outputs": [],
   "source": [
    "# View data types for each variable\n",
    "dfi.dtypes"
   ]
  },
  {
   "cell_type": "code",
   "execution_count": null,
   "metadata": {},
   "outputs": [],
   "source": [
    "# Check for missing data (in numbers)\n",
    "dfi.isna().sum()"
   ]
  },
  {
   "cell_type": "code",
   "execution_count": null,
   "metadata": {},
   "outputs": [],
   "source": [
    "# Check for missing data (vizualization)\n",
    "msno.bar(dfi) "
   ]
  },
  {
   "cell_type": "code",
   "execution_count": null,
   "metadata": {},
   "outputs": [],
   "source": [
    "# Check for duplicates\n",
    "dfi.duplicated().sum()"
   ]
  },
  {
   "cell_type": "code",
   "execution_count": 9,
   "metadata": {},
   "outputs": [],
   "source": [
    "# Drop duplicates\n",
    "dfi.drop_duplicates(keep='first', inplace=True)"
   ]
  },
  {
   "cell_type": "code",
   "execution_count": 10,
   "metadata": {},
   "outputs": [],
   "source": [
    "# Round bmi to 2 decimal places\n",
    "dfi['bmi'] = dfi['bmi'].apply(lambda x: round(x, 2))"
   ]
  },
  {
   "cell_type": "code",
   "execution_count": 11,
   "metadata": {},
   "outputs": [],
   "source": [
    "# Round charges to 2 decimal places\n",
    "dfi['charges'] = dfi['charges'].apply(lambda x: round(x, 2))"
   ]
  },
  {
   "cell_type": "code",
   "execution_count": 13,
   "metadata": {},
   "outputs": [],
   "source": [
    "# Convert smokers column to numeric\n",
    "dfi['smoker'] = dfi['smoker'].map({'yes': 1, 'no': 0})"
   ]
  },
  {
   "cell_type": "code",
   "execution_count": 14,
   "metadata": {},
   "outputs": [],
   "source": [
    "# Strip sex column data\n",
    "dfi['sex'] = dfi['sex'].str.strip()"
   ]
  },
  {
   "cell_type": "code",
   "execution_count": 15,
   "metadata": {},
   "outputs": [],
   "source": [
    "# Convert sex column to numeric\n",
    "dfi['sex'] = dfi['sex'].map({'male': 1, 'female': 0})"
   ]
  },
  {
   "cell_type": "code",
   "execution_count": 17,
   "metadata": {},
   "outputs": [],
   "source": [
    "# Export cleaned data to csv\n",
    "dfi.to_csv(\"cleaned_insurance_data.csv\")"
   ]
  }
 ],
 "metadata": {
  "kernelspec": {
   "display_name": ".venv",
   "language": "python",
   "name": "python3"
  },
  "language_info": {
   "codemirror_mode": {
    "name": "ipython",
    "version": 3
   },
   "file_extension": ".py",
   "mimetype": "text/x-python",
   "name": "python",
   "nbconvert_exporter": "python",
   "pygments_lexer": "ipython3",
   "version": "3.12.3"
  }
 },
 "nbformat": 4,
 "nbformat_minor": 2
}
