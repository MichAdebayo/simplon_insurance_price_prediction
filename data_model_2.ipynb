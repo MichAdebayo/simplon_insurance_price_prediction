{
 "cells": [
  {
   "cell_type": "code",
   "execution_count": 1,
   "metadata": {},
   "outputs": [],
   "source": [
    "import numpy as np\n",
    "import pandas as pd\n",
    "import matplotlib.pyplot as plt\n",
    "import seaborn as sns\n",
    "sns.set_theme()"
   ]
  },
  {
   "cell_type": "code",
   "execution_count": 2,
   "metadata": {},
   "outputs": [],
   "source": [
    "df_load = pd.read_csv(\"cleaned_insurance_data.csv\")\n",
    "\n",
    "df_load.drop(\"Unnamed: 0\", inplace=True, axis=1)"
   ]
  },
  {
   "cell_type": "code",
   "execution_count": 3,
   "metadata": {},
   "outputs": [],
   "source": [
    "df = df_load.drop([\"sex\", \"region\", \"bmi\"], axis = 1)"
   ]
  },
  {
   "cell_type": "code",
   "execution_count": 4,
   "metadata": {},
   "outputs": [],
   "source": [
    "df['not_smoker'] = df[\"smoker\"].apply(lambda x: 1 if x == 0 else 0)\n",
    "\n",
    "df['age_children_interaction'] = df['age'] * df['children']\n",
    "df['dependency_ratio'] = df['children'] / (df['age'] + 1)\n",
    "\n",
    "df['smoker_child_interaction'] = df['children'] * (df['smoker'] == 1)\n",
    "df['non_smoker_child_interaction'] = df['children'] * (df['not_smoker'] == 1)\n",
    "\n",
    "df['smoker_age_interaction'] = df['smoker'] * df['age']\n",
    "df['not_smoker_age_interaction'] = df['not_smoker'] * df['age']"
   ]
  },
  {
   "cell_type": "code",
   "execution_count": 5,
   "metadata": {},
   "outputs": [
    {
     "data": {
      "text/html": [
       "<div>\n",
       "<style scoped>\n",
       "    .dataframe tbody tr th:only-of-type {\n",
       "        vertical-align: middle;\n",
       "    }\n",
       "\n",
       "    .dataframe tbody tr th {\n",
       "        vertical-align: top;\n",
       "    }\n",
       "\n",
       "    .dataframe thead th {\n",
       "        text-align: right;\n",
       "    }\n",
       "</style>\n",
       "<table border=\"1\" class=\"dataframe\">\n",
       "  <thead>\n",
       "    <tr style=\"text-align: right;\">\n",
       "      <th></th>\n",
       "      <th>age</th>\n",
       "      <th>children</th>\n",
       "      <th>smoker</th>\n",
       "      <th>charges</th>\n",
       "      <th>not_smoker</th>\n",
       "      <th>age_children_interaction</th>\n",
       "      <th>dependency_ratio</th>\n",
       "      <th>smoker_child_interaction</th>\n",
       "      <th>non_smoker_child_interaction</th>\n",
       "      <th>smoker_age_interaction</th>\n",
       "      <th>not_smoker_age_interaction</th>\n",
       "    </tr>\n",
       "  </thead>\n",
       "  <tbody>\n",
       "    <tr>\n",
       "      <th>0</th>\n",
       "      <td>19</td>\n",
       "      <td>0</td>\n",
       "      <td>1</td>\n",
       "      <td>16884.92</td>\n",
       "      <td>0</td>\n",
       "      <td>0</td>\n",
       "      <td>0.000000</td>\n",
       "      <td>0</td>\n",
       "      <td>0</td>\n",
       "      <td>19</td>\n",
       "      <td>0</td>\n",
       "    </tr>\n",
       "    <tr>\n",
       "      <th>1</th>\n",
       "      <td>18</td>\n",
       "      <td>1</td>\n",
       "      <td>0</td>\n",
       "      <td>1725.55</td>\n",
       "      <td>1</td>\n",
       "      <td>18</td>\n",
       "      <td>0.052632</td>\n",
       "      <td>0</td>\n",
       "      <td>1</td>\n",
       "      <td>0</td>\n",
       "      <td>18</td>\n",
       "    </tr>\n",
       "    <tr>\n",
       "      <th>2</th>\n",
       "      <td>28</td>\n",
       "      <td>3</td>\n",
       "      <td>0</td>\n",
       "      <td>4449.46</td>\n",
       "      <td>1</td>\n",
       "      <td>84</td>\n",
       "      <td>0.103448</td>\n",
       "      <td>0</td>\n",
       "      <td>3</td>\n",
       "      <td>0</td>\n",
       "      <td>28</td>\n",
       "    </tr>\n",
       "    <tr>\n",
       "      <th>3</th>\n",
       "      <td>33</td>\n",
       "      <td>0</td>\n",
       "      <td>0</td>\n",
       "      <td>21984.47</td>\n",
       "      <td>1</td>\n",
       "      <td>0</td>\n",
       "      <td>0.000000</td>\n",
       "      <td>0</td>\n",
       "      <td>0</td>\n",
       "      <td>0</td>\n",
       "      <td>33</td>\n",
       "    </tr>\n",
       "  </tbody>\n",
       "</table>\n",
       "</div>"
      ],
      "text/plain": [
       "   age  children  smoker   charges  not_smoker  age_children_interaction  \\\n",
       "0   19         0       1  16884.92           0                         0   \n",
       "1   18         1       0   1725.55           1                        18   \n",
       "2   28         3       0   4449.46           1                        84   \n",
       "3   33         0       0  21984.47           1                         0   \n",
       "\n",
       "   dependency_ratio  smoker_child_interaction  non_smoker_child_interaction  \\\n",
       "0          0.000000                         0                             0   \n",
       "1          0.052632                         0                             1   \n",
       "2          0.103448                         0                             3   \n",
       "3          0.000000                         0                             0   \n",
       "\n",
       "   smoker_age_interaction  not_smoker_age_interaction  \n",
       "0                      19                           0  \n",
       "1                       0                          18  \n",
       "2                       0                          28  \n",
       "3                       0                          33  "
      ]
     },
     "execution_count": 5,
     "metadata": {},
     "output_type": "execute_result"
    }
   ],
   "source": [
    "df.head(4)"
   ]
  },
  {
   "cell_type": "code",
   "execution_count": 6,
   "metadata": {},
   "outputs": [],
   "source": [
    "df = df[['charges', 'smoker', 'age', 'children', 'not_smoker', 'age_children_interaction', 'dependency_ratio',\n",
    "         'smoker_child_interaction', 'non_smoker_child_interaction', 'smoker_age_interaction', 'not_smoker_age_interaction']]"
   ]
  },
  {
   "cell_type": "code",
   "execution_count": 7,
   "metadata": {},
   "outputs": [
    {
     "data": {
      "text/html": [
       "<div>\n",
       "<style scoped>\n",
       "    .dataframe tbody tr th:only-of-type {\n",
       "        vertical-align: middle;\n",
       "    }\n",
       "\n",
       "    .dataframe tbody tr th {\n",
       "        vertical-align: top;\n",
       "    }\n",
       "\n",
       "    .dataframe thead th {\n",
       "        text-align: right;\n",
       "    }\n",
       "</style>\n",
       "<table border=\"1\" class=\"dataframe\">\n",
       "  <thead>\n",
       "    <tr style=\"text-align: right;\">\n",
       "      <th></th>\n",
       "      <th>charges</th>\n",
       "      <th>smoker</th>\n",
       "      <th>age</th>\n",
       "      <th>children</th>\n",
       "      <th>not_smoker</th>\n",
       "      <th>age_children_interaction</th>\n",
       "      <th>dependency_ratio</th>\n",
       "      <th>smoker_child_interaction</th>\n",
       "      <th>non_smoker_child_interaction</th>\n",
       "      <th>smoker_age_interaction</th>\n",
       "      <th>not_smoker_age_interaction</th>\n",
       "    </tr>\n",
       "  </thead>\n",
       "  <tbody>\n",
       "    <tr>\n",
       "      <th>0</th>\n",
       "      <td>16884.92</td>\n",
       "      <td>1</td>\n",
       "      <td>19</td>\n",
       "      <td>0</td>\n",
       "      <td>0</td>\n",
       "      <td>0</td>\n",
       "      <td>0.000000</td>\n",
       "      <td>0</td>\n",
       "      <td>0</td>\n",
       "      <td>19</td>\n",
       "      <td>0</td>\n",
       "    </tr>\n",
       "    <tr>\n",
       "      <th>1</th>\n",
       "      <td>1725.55</td>\n",
       "      <td>0</td>\n",
       "      <td>18</td>\n",
       "      <td>1</td>\n",
       "      <td>1</td>\n",
       "      <td>18</td>\n",
       "      <td>0.052632</td>\n",
       "      <td>0</td>\n",
       "      <td>1</td>\n",
       "      <td>0</td>\n",
       "      <td>18</td>\n",
       "    </tr>\n",
       "    <tr>\n",
       "      <th>2</th>\n",
       "      <td>4449.46</td>\n",
       "      <td>0</td>\n",
       "      <td>28</td>\n",
       "      <td>3</td>\n",
       "      <td>1</td>\n",
       "      <td>84</td>\n",
       "      <td>0.103448</td>\n",
       "      <td>0</td>\n",
       "      <td>3</td>\n",
       "      <td>0</td>\n",
       "      <td>28</td>\n",
       "    </tr>\n",
       "  </tbody>\n",
       "</table>\n",
       "</div>"
      ],
      "text/plain": [
       "    charges  smoker  age  children  not_smoker  age_children_interaction  \\\n",
       "0  16884.92       1   19         0           0                         0   \n",
       "1   1725.55       0   18         1           1                        18   \n",
       "2   4449.46       0   28         3           1                        84   \n",
       "\n",
       "   dependency_ratio  smoker_child_interaction  non_smoker_child_interaction  \\\n",
       "0          0.000000                         0                             0   \n",
       "1          0.052632                         0                             1   \n",
       "2          0.103448                         0                             3   \n",
       "\n",
       "   smoker_age_interaction  not_smoker_age_interaction  \n",
       "0                      19                           0  \n",
       "1                       0                          18  \n",
       "2                       0                          28  "
      ]
     },
     "execution_count": 7,
     "metadata": {},
     "output_type": "execute_result"
    }
   ],
   "source": [
    "df.head(3)"
   ]
  },
  {
   "cell_type": "code",
   "execution_count": 8,
   "metadata": {},
   "outputs": [],
   "source": [
    "X = df.drop(\"charges\", axis=1)\n",
    "y = df[[\"charges\"]]"
   ]
  },
  {
   "cell_type": "code",
   "execution_count": 9,
   "metadata": {},
   "outputs": [],
   "source": [
    "from sklearn.model_selection import  train_test_split\n",
    "\n",
    "x_train, y_train, x_test, y_test = train_test_split(X, y, test_size=0.2, stratify= X['smoker'], random_state=35)"
   ]
  },
  {
   "cell_type": "code",
   "execution_count": 10,
   "metadata": {},
   "outputs": [],
   "source": [
    "from sklearn.preprocessing import PowerTransformer\n",
    "\n",
    "# Transform both features and target\n",
    "pt = PowerTransformer(method='yeo-johnson')\n",
    "x_train_transformed = pt.fit_transform(x_train)\n",
    "y_train_transformed = pt.fit_transform(y_train.values.reshape(-1, 1))\n"
   ]
  },
  {
   "cell_type": "code",
   "execution_count": 11,
   "metadata": {},
   "outputs": [
    {
     "data": {
      "text/plain": [
       "(1060, 10)"
      ]
     },
     "execution_count": 11,
     "metadata": {},
     "output_type": "execute_result"
    }
   ],
   "source": [
    "x_train_transformed.shape"
   ]
  },
  {
   "cell_type": "code",
   "execution_count": 13,
   "metadata": {},
   "outputs": [
    {
     "data": {
      "text/plain": [
       "array([[-0.49557383,  0.66183229, -1.0735895 , ..., -0.89624465,\n",
       "        -0.49556673,  0.79879433],\n",
       "       [-0.49557383,  1.40159341, -1.0735895 , ..., -0.89624465,\n",
       "        -0.49556673,  1.25906385],\n",
       "       [-0.49557383,  0.66183229, -1.0735895 , ..., -0.89624465,\n",
       "        -0.49556673,  0.79879433],\n",
       "       ...,\n",
       "       [-0.49557383,  0.26508558,  0.29477096, ...,  0.66468152,\n",
       "        -0.49556673,  0.5572777 ],\n",
       "       [ 2.01786281,  0.33266523,  0.29477096, ..., -0.89624465,\n",
       "         2.02488657, -1.7088022 ],\n",
       "       [ 2.01786281, -0.67949943, -1.0735895 , ..., -0.89624465,\n",
       "         2.01449095, -1.7088022 ]], shape=(1060, 10))"
      ]
     },
     "execution_count": 13,
     "metadata": {},
     "output_type": "execute_result"
    }
   ],
   "source": [
    "x_train_transformed"
   ]
  },
  {
   "cell_type": "code",
   "execution_count": 12,
   "metadata": {},
   "outputs": [
    {
     "data": {
      "text/plain": [
       "(266, 10)"
      ]
     },
     "execution_count": 12,
     "metadata": {},
     "output_type": "execute_result"
    }
   ],
   "source": [
    "y_train.shape"
   ]
  }
 ],
 "metadata": {
  "kernelspec": {
   "display_name": ".venv",
   "language": "python",
   "name": "python3"
  },
  "language_info": {
   "codemirror_mode": {
    "name": "ipython",
    "version": 3
   },
   "file_extension": ".py",
   "mimetype": "text/x-python",
   "name": "python",
   "nbconvert_exporter": "python",
   "pygments_lexer": "ipython3",
   "version": "3.12.3"
  }
 },
 "nbformat": 4,
 "nbformat_minor": 2
}
